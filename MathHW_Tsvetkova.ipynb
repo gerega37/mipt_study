{
  "cells": [
    {
      "cell_type": "markdown",
      "metadata": {
        "id": "view-in-github",
        "colab_type": "text"
      },
      "source": [
        "<a href=\"https://colab.research.google.com/github/gerega37/mipt_study/blob/main/MathHW_Tsvetkova.ipynb\" target=\"_parent\"><img src=\"https://colab.research.google.com/assets/colab-badge.svg\" alt=\"Open In Colab\"/></a>"
      ]
    },
    {
      "cell_type": "code",
      "execution_count": 112,
      "id": "3f2c809d",
      "metadata": {
        "id": "3f2c809d"
      },
      "outputs": [],
      "source": [
        "import numpy as np \n",
        "import pandas as pd \n",
        "import seaborn as sns \n",
        "import matplotlib.pyplot as plt \n",
        "%matplotlib inline"
      ]
    },
    {
      "cell_type": "code",
      "execution_count": 113,
      "id": "c64314fe",
      "metadata": {
        "colab": {
          "base_uri": "https://localhost:8080/",
          "height": 206
        },
        "id": "c64314fe",
        "outputId": "e66a41c5-0b5c-416c-ed2b-1bdaa8f65ed1"
      },
      "outputs": [
        {
          "output_type": "execute_result",
          "data": {
            "text/plain": [
              "   Well    Por  Perm    AI  Brittle   TOC    VR         Prod\n",
              "0     1  12.08  2.92  2.80    81.40  1.16  2.31  4165.196191\n",
              "1     2  12.38  3.53  3.22    46.17  0.89  1.88  3561.146205\n",
              "2     3  14.02  2.59  4.01    72.80  0.89  2.72  4284.348574\n",
              "3     4  17.67  6.75  2.63    39.81  1.08  1.88  5098.680869\n",
              "4     5  17.52  4.57  3.18    10.94  1.51  1.90  3406.132832"
            ],
            "text/html": [
              "\n",
              "  <div id=\"df-b8ae28c4-85b2-48d7-b537-9b6fc118ddec\">\n",
              "    <div class=\"colab-df-container\">\n",
              "      <div>\n",
              "<style scoped>\n",
              "    .dataframe tbody tr th:only-of-type {\n",
              "        vertical-align: middle;\n",
              "    }\n",
              "\n",
              "    .dataframe tbody tr th {\n",
              "        vertical-align: top;\n",
              "    }\n",
              "\n",
              "    .dataframe thead th {\n",
              "        text-align: right;\n",
              "    }\n",
              "</style>\n",
              "<table border=\"1\" class=\"dataframe\">\n",
              "  <thead>\n",
              "    <tr style=\"text-align: right;\">\n",
              "      <th></th>\n",
              "      <th>Well</th>\n",
              "      <th>Por</th>\n",
              "      <th>Perm</th>\n",
              "      <th>AI</th>\n",
              "      <th>Brittle</th>\n",
              "      <th>TOC</th>\n",
              "      <th>VR</th>\n",
              "      <th>Prod</th>\n",
              "    </tr>\n",
              "  </thead>\n",
              "  <tbody>\n",
              "    <tr>\n",
              "      <th>0</th>\n",
              "      <td>1</td>\n",
              "      <td>12.08</td>\n",
              "      <td>2.92</td>\n",
              "      <td>2.80</td>\n",
              "      <td>81.40</td>\n",
              "      <td>1.16</td>\n",
              "      <td>2.31</td>\n",
              "      <td>4165.196191</td>\n",
              "    </tr>\n",
              "    <tr>\n",
              "      <th>1</th>\n",
              "      <td>2</td>\n",
              "      <td>12.38</td>\n",
              "      <td>3.53</td>\n",
              "      <td>3.22</td>\n",
              "      <td>46.17</td>\n",
              "      <td>0.89</td>\n",
              "      <td>1.88</td>\n",
              "      <td>3561.146205</td>\n",
              "    </tr>\n",
              "    <tr>\n",
              "      <th>2</th>\n",
              "      <td>3</td>\n",
              "      <td>14.02</td>\n",
              "      <td>2.59</td>\n",
              "      <td>4.01</td>\n",
              "      <td>72.80</td>\n",
              "      <td>0.89</td>\n",
              "      <td>2.72</td>\n",
              "      <td>4284.348574</td>\n",
              "    </tr>\n",
              "    <tr>\n",
              "      <th>3</th>\n",
              "      <td>4</td>\n",
              "      <td>17.67</td>\n",
              "      <td>6.75</td>\n",
              "      <td>2.63</td>\n",
              "      <td>39.81</td>\n",
              "      <td>1.08</td>\n",
              "      <td>1.88</td>\n",
              "      <td>5098.680869</td>\n",
              "    </tr>\n",
              "    <tr>\n",
              "      <th>4</th>\n",
              "      <td>5</td>\n",
              "      <td>17.52</td>\n",
              "      <td>4.57</td>\n",
              "      <td>3.18</td>\n",
              "      <td>10.94</td>\n",
              "      <td>1.51</td>\n",
              "      <td>1.90</td>\n",
              "      <td>3406.132832</td>\n",
              "    </tr>\n",
              "  </tbody>\n",
              "</table>\n",
              "</div>\n",
              "      <button class=\"colab-df-convert\" onclick=\"convertToInteractive('df-b8ae28c4-85b2-48d7-b537-9b6fc118ddec')\"\n",
              "              title=\"Convert this dataframe to an interactive table.\"\n",
              "              style=\"display:none;\">\n",
              "        \n",
              "  <svg xmlns=\"http://www.w3.org/2000/svg\" height=\"24px\"viewBox=\"0 0 24 24\"\n",
              "       width=\"24px\">\n",
              "    <path d=\"M0 0h24v24H0V0z\" fill=\"none\"/>\n",
              "    <path d=\"M18.56 5.44l.94 2.06.94-2.06 2.06-.94-2.06-.94-.94-2.06-.94 2.06-2.06.94zm-11 1L8.5 8.5l.94-2.06 2.06-.94-2.06-.94L8.5 2.5l-.94 2.06-2.06.94zm10 10l.94 2.06.94-2.06 2.06-.94-2.06-.94-.94-2.06-.94 2.06-2.06.94z\"/><path d=\"M17.41 7.96l-1.37-1.37c-.4-.4-.92-.59-1.43-.59-.52 0-1.04.2-1.43.59L10.3 9.45l-7.72 7.72c-.78.78-.78 2.05 0 2.83L4 21.41c.39.39.9.59 1.41.59.51 0 1.02-.2 1.41-.59l7.78-7.78 2.81-2.81c.8-.78.8-2.07 0-2.86zM5.41 20L4 18.59l7.72-7.72 1.47 1.35L5.41 20z\"/>\n",
              "  </svg>\n",
              "      </button>\n",
              "      \n",
              "  <style>\n",
              "    .colab-df-container {\n",
              "      display:flex;\n",
              "      flex-wrap:wrap;\n",
              "      gap: 12px;\n",
              "    }\n",
              "\n",
              "    .colab-df-convert {\n",
              "      background-color: #E8F0FE;\n",
              "      border: none;\n",
              "      border-radius: 50%;\n",
              "      cursor: pointer;\n",
              "      display: none;\n",
              "      fill: #1967D2;\n",
              "      height: 32px;\n",
              "      padding: 0 0 0 0;\n",
              "      width: 32px;\n",
              "    }\n",
              "\n",
              "    .colab-df-convert:hover {\n",
              "      background-color: #E2EBFA;\n",
              "      box-shadow: 0px 1px 2px rgba(60, 64, 67, 0.3), 0px 1px 3px 1px rgba(60, 64, 67, 0.15);\n",
              "      fill: #174EA6;\n",
              "    }\n",
              "\n",
              "    [theme=dark] .colab-df-convert {\n",
              "      background-color: #3B4455;\n",
              "      fill: #D2E3FC;\n",
              "    }\n",
              "\n",
              "    [theme=dark] .colab-df-convert:hover {\n",
              "      background-color: #434B5C;\n",
              "      box-shadow: 0px 1px 3px 1px rgba(0, 0, 0, 0.15);\n",
              "      filter: drop-shadow(0px 1px 2px rgba(0, 0, 0, 0.3));\n",
              "      fill: #FFFFFF;\n",
              "    }\n",
              "  </style>\n",
              "\n",
              "      <script>\n",
              "        const buttonEl =\n",
              "          document.querySelector('#df-b8ae28c4-85b2-48d7-b537-9b6fc118ddec button.colab-df-convert');\n",
              "        buttonEl.style.display =\n",
              "          google.colab.kernel.accessAllowed ? 'block' : 'none';\n",
              "\n",
              "        async function convertToInteractive(key) {\n",
              "          const element = document.querySelector('#df-b8ae28c4-85b2-48d7-b537-9b6fc118ddec');\n",
              "          const dataTable =\n",
              "            await google.colab.kernel.invokeFunction('convertToInteractive',\n",
              "                                                     [key], {});\n",
              "          if (!dataTable) return;\n",
              "\n",
              "          const docLinkHtml = 'Like what you see? Visit the ' +\n",
              "            '<a target=\"_blank\" href=https://colab.research.google.com/notebooks/data_table.ipynb>data table notebook</a>'\n",
              "            + ' to learn more about interactive tables.';\n",
              "          element.innerHTML = '';\n",
              "          dataTable['output_type'] = 'display_data';\n",
              "          await google.colab.output.renderOutput(dataTable, element);\n",
              "          const docLink = document.createElement('div');\n",
              "          docLink.innerHTML = docLinkHtml;\n",
              "          element.appendChild(docLink);\n",
              "        }\n",
              "      </script>\n",
              "    </div>\n",
              "  </div>\n",
              "  "
            ]
          },
          "metadata": {},
          "execution_count": 113
        }
      ],
      "source": [
        "# Open the data\n",
        "url = 'https://raw.githubusercontent.com/gerega37/mipt_study/main/unconv.csv'\n",
        "data = pd.read_csv(url)\n",
        "data.head()"
      ]
    },
    {
      "cell_type": "code",
      "execution_count": 114,
      "id": "45e6079f",
      "metadata": {
        "colab": {
          "base_uri": "https://localhost:8080/"
        },
        "id": "45e6079f",
        "outputId": "4ab4c609-ac3e-4635-8e73-9147b45aaea8"
      },
      "outputs": [
        {
          "output_type": "execute_result",
          "data": {
            "text/plain": [
              "Well       0\n",
              "Por        0\n",
              "Perm       0\n",
              "AI         0\n",
              "Brittle    0\n",
              "TOC        0\n",
              "VR         0\n",
              "Prod       0\n",
              "dtype: int64"
            ]
          },
          "metadata": {},
          "execution_count": 114
        }
      ],
      "source": [
        "data.isnull().sum()"
      ]
    },
    {
      "cell_type": "markdown",
      "id": "6caa29d4",
      "metadata": {
        "id": "6caa29d4"
      },
      "source": [
        "There are no any null values"
      ]
    },
    {
      "cell_type": "code",
      "execution_count": 115,
      "id": "29b7d753",
      "metadata": {
        "id": "29b7d753"
      },
      "outputs": [],
      "source": [
        "# Continuous variables\n",
        "var_real = ['Well','Por', 'Perm', 'AI', 'Brittle', 'TOC', 'VR']\n",
        "\n",
        "# Target variable\n",
        "target = 'Prod'"
      ]
    },
    {
      "cell_type": "markdown",
      "id": "1a7ff126",
      "metadata": {
        "id": "1a7ff126"
      },
      "source": [
        "## Задание 2.1"
      ]
    },
    {
      "cell_type": "code",
      "execution_count": 116,
      "id": "d276bbb5",
      "metadata": {
        "colab": {
          "base_uri": "https://localhost:8080/",
          "height": 300
        },
        "id": "d276bbb5",
        "outputId": "758c2b31-8a00-4193-d0a5-b1eeea8abde6"
      },
      "outputs": [
        {
          "output_type": "execute_result",
          "data": {
            "text/plain": [
              "             Well       Por      Perm        AI   Brittle       TOC        VR  \\\n",
              "Well     1.000000  0.068927  0.077928  0.041483 -0.079252  0.022624 -0.007279   \n",
              "Por      0.068927  1.000000  0.760546 -0.461549 -0.218570  0.711831  0.111860   \n",
              "Perm     0.077928  0.760546  1.000000 -0.239636 -0.124017  0.471746  0.051023   \n",
              "AI       0.041483 -0.461549 -0.239636  1.000000  0.127599 -0.531864  0.499143   \n",
              "Brittle -0.079252 -0.218570 -0.124017  0.127599  1.000000 -0.214282  0.317929   \n",
              "TOC      0.022624  0.711831  0.471746 -0.531864 -0.214282  1.000000  0.299483   \n",
              "VR      -0.007279  0.111860  0.051023  0.499143  0.317929  0.299483  1.000000   \n",
              "Prod     0.026817  0.861910  0.727426 -0.390835  0.237155  0.654445  0.323182   \n",
              "\n",
              "             Prod  \n",
              "Well     0.026817  \n",
              "Por      0.861910  \n",
              "Perm     0.727426  \n",
              "AI      -0.390835  \n",
              "Brittle  0.237155  \n",
              "TOC      0.654445  \n",
              "VR       0.323182  \n",
              "Prod     1.000000  "
            ],
            "text/html": [
              "\n",
              "  <div id=\"df-257e6211-9f43-441f-b451-9a5a902081a9\">\n",
              "    <div class=\"colab-df-container\">\n",
              "      <div>\n",
              "<style scoped>\n",
              "    .dataframe tbody tr th:only-of-type {\n",
              "        vertical-align: middle;\n",
              "    }\n",
              "\n",
              "    .dataframe tbody tr th {\n",
              "        vertical-align: top;\n",
              "    }\n",
              "\n",
              "    .dataframe thead th {\n",
              "        text-align: right;\n",
              "    }\n",
              "</style>\n",
              "<table border=\"1\" class=\"dataframe\">\n",
              "  <thead>\n",
              "    <tr style=\"text-align: right;\">\n",
              "      <th></th>\n",
              "      <th>Well</th>\n",
              "      <th>Por</th>\n",
              "      <th>Perm</th>\n",
              "      <th>AI</th>\n",
              "      <th>Brittle</th>\n",
              "      <th>TOC</th>\n",
              "      <th>VR</th>\n",
              "      <th>Prod</th>\n",
              "    </tr>\n",
              "  </thead>\n",
              "  <tbody>\n",
              "    <tr>\n",
              "      <th>Well</th>\n",
              "      <td>1.000000</td>\n",
              "      <td>0.068927</td>\n",
              "      <td>0.077928</td>\n",
              "      <td>0.041483</td>\n",
              "      <td>-0.079252</td>\n",
              "      <td>0.022624</td>\n",
              "      <td>-0.007279</td>\n",
              "      <td>0.026817</td>\n",
              "    </tr>\n",
              "    <tr>\n",
              "      <th>Por</th>\n",
              "      <td>0.068927</td>\n",
              "      <td>1.000000</td>\n",
              "      <td>0.760546</td>\n",
              "      <td>-0.461549</td>\n",
              "      <td>-0.218570</td>\n",
              "      <td>0.711831</td>\n",
              "      <td>0.111860</td>\n",
              "      <td>0.861910</td>\n",
              "    </tr>\n",
              "    <tr>\n",
              "      <th>Perm</th>\n",
              "      <td>0.077928</td>\n",
              "      <td>0.760546</td>\n",
              "      <td>1.000000</td>\n",
              "      <td>-0.239636</td>\n",
              "      <td>-0.124017</td>\n",
              "      <td>0.471746</td>\n",
              "      <td>0.051023</td>\n",
              "      <td>0.727426</td>\n",
              "    </tr>\n",
              "    <tr>\n",
              "      <th>AI</th>\n",
              "      <td>0.041483</td>\n",
              "      <td>-0.461549</td>\n",
              "      <td>-0.239636</td>\n",
              "      <td>1.000000</td>\n",
              "      <td>0.127599</td>\n",
              "      <td>-0.531864</td>\n",
              "      <td>0.499143</td>\n",
              "      <td>-0.390835</td>\n",
              "    </tr>\n",
              "    <tr>\n",
              "      <th>Brittle</th>\n",
              "      <td>-0.079252</td>\n",
              "      <td>-0.218570</td>\n",
              "      <td>-0.124017</td>\n",
              "      <td>0.127599</td>\n",
              "      <td>1.000000</td>\n",
              "      <td>-0.214282</td>\n",
              "      <td>0.317929</td>\n",
              "      <td>0.237155</td>\n",
              "    </tr>\n",
              "    <tr>\n",
              "      <th>TOC</th>\n",
              "      <td>0.022624</td>\n",
              "      <td>0.711831</td>\n",
              "      <td>0.471746</td>\n",
              "      <td>-0.531864</td>\n",
              "      <td>-0.214282</td>\n",
              "      <td>1.000000</td>\n",
              "      <td>0.299483</td>\n",
              "      <td>0.654445</td>\n",
              "    </tr>\n",
              "    <tr>\n",
              "      <th>VR</th>\n",
              "      <td>-0.007279</td>\n",
              "      <td>0.111860</td>\n",
              "      <td>0.051023</td>\n",
              "      <td>0.499143</td>\n",
              "      <td>0.317929</td>\n",
              "      <td>0.299483</td>\n",
              "      <td>1.000000</td>\n",
              "      <td>0.323182</td>\n",
              "    </tr>\n",
              "    <tr>\n",
              "      <th>Prod</th>\n",
              "      <td>0.026817</td>\n",
              "      <td>0.861910</td>\n",
              "      <td>0.727426</td>\n",
              "      <td>-0.390835</td>\n",
              "      <td>0.237155</td>\n",
              "      <td>0.654445</td>\n",
              "      <td>0.323182</td>\n",
              "      <td>1.000000</td>\n",
              "    </tr>\n",
              "  </tbody>\n",
              "</table>\n",
              "</div>\n",
              "      <button class=\"colab-df-convert\" onclick=\"convertToInteractive('df-257e6211-9f43-441f-b451-9a5a902081a9')\"\n",
              "              title=\"Convert this dataframe to an interactive table.\"\n",
              "              style=\"display:none;\">\n",
              "        \n",
              "  <svg xmlns=\"http://www.w3.org/2000/svg\" height=\"24px\"viewBox=\"0 0 24 24\"\n",
              "       width=\"24px\">\n",
              "    <path d=\"M0 0h24v24H0V0z\" fill=\"none\"/>\n",
              "    <path d=\"M18.56 5.44l.94 2.06.94-2.06 2.06-.94-2.06-.94-.94-2.06-.94 2.06-2.06.94zm-11 1L8.5 8.5l.94-2.06 2.06-.94-2.06-.94L8.5 2.5l-.94 2.06-2.06.94zm10 10l.94 2.06.94-2.06 2.06-.94-2.06-.94-.94-2.06-.94 2.06-2.06.94z\"/><path d=\"M17.41 7.96l-1.37-1.37c-.4-.4-.92-.59-1.43-.59-.52 0-1.04.2-1.43.59L10.3 9.45l-7.72 7.72c-.78.78-.78 2.05 0 2.83L4 21.41c.39.39.9.59 1.41.59.51 0 1.02-.2 1.41-.59l7.78-7.78 2.81-2.81c.8-.78.8-2.07 0-2.86zM5.41 20L4 18.59l7.72-7.72 1.47 1.35L5.41 20z\"/>\n",
              "  </svg>\n",
              "      </button>\n",
              "      \n",
              "  <style>\n",
              "    .colab-df-container {\n",
              "      display:flex;\n",
              "      flex-wrap:wrap;\n",
              "      gap: 12px;\n",
              "    }\n",
              "\n",
              "    .colab-df-convert {\n",
              "      background-color: #E8F0FE;\n",
              "      border: none;\n",
              "      border-radius: 50%;\n",
              "      cursor: pointer;\n",
              "      display: none;\n",
              "      fill: #1967D2;\n",
              "      height: 32px;\n",
              "      padding: 0 0 0 0;\n",
              "      width: 32px;\n",
              "    }\n",
              "\n",
              "    .colab-df-convert:hover {\n",
              "      background-color: #E2EBFA;\n",
              "      box-shadow: 0px 1px 2px rgba(60, 64, 67, 0.3), 0px 1px 3px 1px rgba(60, 64, 67, 0.15);\n",
              "      fill: #174EA6;\n",
              "    }\n",
              "\n",
              "    [theme=dark] .colab-df-convert {\n",
              "      background-color: #3B4455;\n",
              "      fill: #D2E3FC;\n",
              "    }\n",
              "\n",
              "    [theme=dark] .colab-df-convert:hover {\n",
              "      background-color: #434B5C;\n",
              "      box-shadow: 0px 1px 3px 1px rgba(0, 0, 0, 0.15);\n",
              "      filter: drop-shadow(0px 1px 2px rgba(0, 0, 0, 0.3));\n",
              "      fill: #FFFFFF;\n",
              "    }\n",
              "  </style>\n",
              "\n",
              "      <script>\n",
              "        const buttonEl =\n",
              "          document.querySelector('#df-257e6211-9f43-441f-b451-9a5a902081a9 button.colab-df-convert');\n",
              "        buttonEl.style.display =\n",
              "          google.colab.kernel.accessAllowed ? 'block' : 'none';\n",
              "\n",
              "        async function convertToInteractive(key) {\n",
              "          const element = document.querySelector('#df-257e6211-9f43-441f-b451-9a5a902081a9');\n",
              "          const dataTable =\n",
              "            await google.colab.kernel.invokeFunction('convertToInteractive',\n",
              "                                                     [key], {});\n",
              "          if (!dataTable) return;\n",
              "\n",
              "          const docLinkHtml = 'Like what you see? Visit the ' +\n",
              "            '<a target=\"_blank\" href=https://colab.research.google.com/notebooks/data_table.ipynb>data table notebook</a>'\n",
              "            + ' to learn more about interactive tables.';\n",
              "          element.innerHTML = '';\n",
              "          dataTable['output_type'] = 'display_data';\n",
              "          await google.colab.output.renderOutput(dataTable, element);\n",
              "          const docLink = document.createElement('div');\n",
              "          docLink.innerHTML = docLinkHtml;\n",
              "          element.appendChild(docLink);\n",
              "        }\n",
              "      </script>\n",
              "    </div>\n",
              "  </div>\n",
              "  "
            ]
          },
          "metadata": {},
          "execution_count": 116
        }
      ],
      "source": [
        "# Build a correlation matrix of factors by including the target attribute in it\n",
        "data[var_real+[target]].corr()"
      ]
    },
    {
      "cell_type": "code",
      "execution_count": 117,
      "id": "9eb84534",
      "metadata": {
        "colab": {
          "base_uri": "https://localhost:8080/",
          "height": 269
        },
        "id": "9eb84534",
        "outputId": "91073106-f32a-459a-adcf-f4799e0ad451"
      },
      "outputs": [
        {
          "output_type": "display_data",
          "data": {
            "text/plain": [
              "<Figure size 432x288 with 2 Axes>"
            ],
            "image/png": "[encoded data removed]"
          },
          "metadata": {
            "needs_background": "light"
          }
        }
      ],
      "source": [
        "sns.heatmap(data[var_real+[target]].corr(), cmap='coolwarm', annot = True);"
      ]
    },
    {
      "cell_type": "markdown",
      "source": [
        "The highest correlation is observed between the target variable and Por, Perm, TOC."
      ],
      "metadata": {
        "id": "bbJrPhxklTUQ"
      },
      "id": "bbJrPhxklTUQ"
    },
    {
      "cell_type": "code",
      "execution_count": 118,
      "id": "ec84f4c4",
      "metadata": {
        "colab": {
          "base_uri": "https://localhost:8080/"
        },
        "id": "ec84f4c4",
        "outputId": "09430a1e-2fc3-49b8-af79-a2c23ad472cf"
      },
      "outputs": [
        {
          "output_type": "execute_result",
          "data": {
            "text/plain": [
              "(200, 8)"
            ]
          },
          "metadata": {},
          "execution_count": 118
        }
      ],
      "source": [
        "data.shape"
      ]
    },
    {
      "cell_type": "code",
      "execution_count": 119,
      "id": "81881a71",
      "metadata": {
        "id": "81881a71"
      },
      "outputs": [],
      "source": [
        "matrix = data.corr()"
      ]
    },
    {
      "cell_type": "code",
      "execution_count": 120,
      "id": "0c0da888",
      "metadata": {
        "colab": {
          "base_uri": "https://localhost:8080/"
        },
        "id": "0c0da888",
        "outputId": "6713978f-a7d0-4f83-f556-9f14ab36d033"
      },
      "outputs": [
        {
          "output_type": "stream",
          "name": "stdout",
          "text": [
            "Rank: 8\n"
          ]
        }
      ],
      "source": [
        "# Calculate the rank of the resulting correlation matrix\n",
        "print('Rank:', np.linalg.matrix_rank(matrix))"
      ]
    },
    {
      "cell_type": "code",
      "execution_count": 121,
      "id": "72eb735a",
      "metadata": {
        "colab": {
          "base_uri": "https://localhost:8080/"
        },
        "id": "72eb735a",
        "outputId": "809d7cf7-0328-47f0-e131-39d2dc8357b8"
      },
      "outputs": [
        {
          "output_type": "stream",
          "name": "stdout",
          "text": [
            "Determinant: 0.0007\n"
          ]
        }
      ],
      "source": [
        "# Calculate the determinant of the correlation matrix\n",
        "print('Determinant: {:.4f}'.format(np.linalg.det(matrix)))"
      ]
    },
    {
      "cell_type": "markdown",
      "source": [
        "The correlation matrix is poorly conditioned, the determinant is close to 0."
      ],
      "metadata": {
        "id": "fI0ypQLhmDnE"
      },
      "id": "fI0ypQLhmDnE"
    },
    {
      "cell_type": "markdown",
      "id": "b13b0be3",
      "metadata": {
        "id": "b13b0be3"
      },
      "source": [
        "## Задание 2.2"
      ]
    },
    {
      "cell_type": "code",
      "execution_count": 122,
      "id": "97e6eb0a",
      "metadata": {
        "id": "97e6eb0a"
      },
      "outputs": [],
      "source": [
        "# Create a matrix of observations\n",
        "# Denote a matrix of observations as X, and the vector of correct answers as y .\n",
        "y = data['Prod']\n",
        "X = data.drop('Prod', axis=1).astype(float)"
      ]
    },
    {
      "cell_type": "code",
      "source": [
        "# Build a linear regression model using the least squares method.\n",
        "# To do this, use the NumPy matrix formula.\n",
        "# As an answer, specify the obtained estimates of the coefficients of the model\n",
        "n = X.shape[0]\n",
        "X1 = np.column_stack((np.ones(n), X))\n",
        "w_hat = np.linalg.inv(X1.T@X1)@X1.T@np.array(y)"
      ],
      "metadata": {
        "id": "QQP9XokvpgYN"
      },
      "id": "QQP9XokvpgYN",
      "execution_count": 123,
      "outputs": []
    },
    {
      "cell_type": "code",
      "source": [
        "# Vector of coefficient estimates\n",
        "w_hat"
      ],
      "metadata": {
        "colab": {
          "base_uri": "https://localhost:8080/"
        },
        "id": "MTBSEoTiBjQm",
        "outputId": "3f093f50-456a-44cf-a22f-cc3c1e5cfe0f"
      },
      "id": "MTBSEoTiBjQm",
      "execution_count": 124,
      "outputs": [
        {
          "output_type": "execute_result",
          "data": {
            "text/plain": [
              "array([-1.23230803e+03,  5.07003631e-02,  2.30179140e+02,  1.16239006e+02,\n",
              "       -3.65202301e+02,  2.49943700e+01, -7.84009294e+01,  7.85259815e+02])"
            ]
          },
          "metadata": {},
          "execution_count": 124
        }
      ]
    },
    {
      "cell_type": "code",
      "source": [
        "y_pred = X1 @ w_hat"
      ],
      "metadata": {
        "id": "4LWdLi4ypuPI"
      },
      "id": "4LWdLi4ypuPI",
      "execution_count": 125,
      "outputs": []
    },
    {
      "cell_type": "code",
      "source": [
        "y_pred"
      ],
      "metadata": {
        "colab": {
          "base_uri": "https://localhost:8080/"
        },
        "id": "izEAEXShBC_a",
        "outputId": "0e05574e-a658-4f40-cf5c-f73fab713518"
      },
      "id": "izEAEXShBC_a",
      "execution_count": 126,
      "outputs": [
        {
          "output_type": "execute_result",
          "data": {
            "text/plain": [
              "array([4622.70495134, 3412.28509773, 4717.27342158, 5045.93273845,\n",
              "       3817.59960464, 4266.59975955, 4203.98238154, 3385.02513907,\n",
              "       4202.93287979, 4567.34247328, 4762.32689161, 4958.74652566,\n",
              "       5376.37329106, 5398.87579314, 4575.43049238, 3536.30419396,\n",
              "       5434.55260889, 3963.46242028, 4803.20009394, 3784.53263333,\n",
              "       5604.88269189, 4542.14215288, 2558.04389628, 2343.05617327,\n",
              "       5718.14877932, 2116.77843825, 4861.44126248, 4169.61525382,\n",
              "       2732.36602593, 3721.44003237, 5653.63615064, 3725.47692036,\n",
              "       3923.29152933, 4038.39782584, 3711.64976655, 2758.56904237,\n",
              "       3495.22598653, 5428.21355924, 4155.15316364, 4674.10333006,\n",
              "       4261.05823196, 4363.90516919, 3096.2697799 , 2680.51174195,\n",
              "       5533.21279385, 3298.1714543 , 2901.72364441, 2405.622932  ,\n",
              "       5222.60246438, 5077.32285034, 5341.73544002, 5941.43289724,\n",
              "       4539.79436263, 3858.26792027, 5432.62982118, 3991.74414981,\n",
              "       3252.50355726, 3781.69338147, 3662.13468383, 4112.86018798,\n",
              "       5792.80295334, 3737.23622471, 5384.03075658, 4364.18989399,\n",
              "       5602.08778473, 4377.86905364, 3496.07778253, 3856.52600963,\n",
              "       4190.96019786, 3759.93756375, 3203.65973691, 4335.23932073,\n",
              "       4121.39500355, 4198.56025649, 5281.92852709, 5801.73695252,\n",
              "       5242.06930258, 3130.1771234 , 4504.99951471, 5401.59939556,\n",
              "       4495.89079232, 4369.54132169, 4260.39105257, 4382.67372858,\n",
              "       2571.92268607, 4178.10423813, 4223.36767927, 4653.15134135,\n",
              "       3307.73073662, 3616.71201028, 3802.92514082, 1793.09634432,\n",
              "       5387.88231402, 3891.87323356, 5080.4711079 , 5094.83932159,\n",
              "       5345.34792938, 6045.79892851, 3557.12077012, 5152.73648512,\n",
              "       4770.18581119, 3870.4953136 , 3412.12763239, 4278.61696379,\n",
              "       4690.14977633, 4723.06405371, 3787.20266561, 4697.78516043,\n",
              "       6142.22810151, 4775.84173582, 4875.34876537, 3767.90685245,\n",
              "       5053.70941183, 5790.78053763, 5064.88513065, 5246.73745624,\n",
              "       4508.67595739, 4206.89428136, 3145.14661414, 5373.94864695,\n",
              "       4968.12434823, 3054.86775503, 5681.24911507, 3879.9721863 ,\n",
              "       5844.98909911, 4622.88307738, 4444.76977606, 4614.17036251,\n",
              "       4180.77814923, 4153.04456561, 4407.42626988, 5049.11595548,\n",
              "       3263.34892264, 4943.01389209, 2660.57619677, 3883.76899968,\n",
              "       4174.32357103, 4712.0444637 , 1812.38516703, 4114.50441722,\n",
              "       5721.61615504, 4163.04362713, 5902.58542133, 3060.14705214,\n",
              "       4656.41315298, 4715.61257984, 4092.89211064, 5516.83581682,\n",
              "       3902.49363741, 3708.66286364, 2680.25919052, 3111.15748222,\n",
              "       5301.18063242, 5309.30686704, 3646.61998383, 3758.99724611,\n",
              "       5533.80026081, 4706.08572192, 4048.00161847, 5846.11432792,\n",
              "       5183.9174362 , 4688.2069515 , 4146.66505498, 3320.08505564,\n",
              "       4355.29258667, 5179.49496334, 6239.45301393, 3295.14944705,\n",
              "       5162.53478862, 2768.0210027 , 2840.39307902, 5394.575414  ,\n",
              "       2898.22364148, 3392.55756457, 4214.68604963, 4604.24045367,\n",
              "       3621.48108223, 2741.07994121, 5682.44649251, 2179.67325483,\n",
              "       4169.86990146, 4043.92869905, 3072.80576037, 6343.77860152,\n",
              "       4566.82218286, 4868.55814564, 3896.8903651 , 3371.86741982,\n",
              "       4409.60298327, 4305.24604235, 3492.09598834, 1952.18856829,\n",
              "       5775.02886768, 4136.6501509 , 5302.61930321, 4041.48347397,\n",
              "       5495.75587122, 3333.91647937, 5125.22087532, 6085.57721113])"
            ]
          },
          "metadata": {},
          "execution_count": 126
        }
      ]
    },
    {
      "cell_type": "markdown",
      "id": "75f5e369",
      "metadata": {
        "id": "75f5e369"
      },
      "source": [
        "## Задание 2.3"
      ]
    },
    {
      "cell_type": "code",
      "source": [
        "# Build a forecast of gas production for the well with the parameters specified below\n",
        "# What is the absolute error of your forecast for the proposed well ?\n",
        "# The answer is given in millions of cubic feet per day).\n",
        "well_data = np.array([1, 106, 15.32, 3.71, 3.29, 55.99, 1.35, 2.42])\n",
        "well_predict = well_data @ w_hat"
      ],
      "metadata": {
        "id": "LCGye4_YwkQj"
      },
      "id": "LCGye4_YwkQj",
      "execution_count": 127,
      "outputs": []
    },
    {
      "cell_type": "code",
      "source": [
        "well_predict = well_data @ w_hat\n",
        "well_predict"
      ],
      "metadata": {
        "colab": {
          "base_uri": "https://localhost:8080/"
        },
        "id": "pzMJXv-mxQm3",
        "outputId": "e73f87cb-c439-4172-81a4-078123e118fd"
      },
      "id": "pzMJXv-mxQm3",
      "execution_count": 128,
      "outputs": [
        {
          "output_type": "execute_result",
          "data": {
            "text/plain": [
              "4723.064053707485"
            ]
          },
          "metadata": {},
          "execution_count": 128
        }
      ]
    },
    {
      "cell_type": "code",
      "source": [
        "4748.315042 - 4723.064053707485"
      ],
      "metadata": {
        "colab": {
          "base_uri": "https://localhost:8080/"
        },
        "id": "019uBDzjxjzo",
        "outputId": "f510b1fc-b0e3-4a20-f01f-a9c29d17fec5"
      },
      "id": "019uBDzjxjzo",
      "execution_count": 129,
      "outputs": [
        {
          "output_type": "execute_result",
          "data": {
            "text/plain": [
              "25.250988292515103"
            ]
          },
          "metadata": {},
          "execution_count": 129
        }
      ]
    },
    {
      "cell_type": "markdown",
      "id": "e6567af4",
      "metadata": {
        "id": "e6567af4"
      },
      "source": [
        "Метрика MAPE:"
      ]
    },
    {
      "cell_type": "markdown",
      "id": "476e4ba5",
      "metadata": {
        "id": "476e4ba5"
      },
      "source": [
        "![](https://miro.medium.com/max/596/1*vmIM1jePXsDxPpgWEQ35Lg.png)"
      ]
    },
    {
      "cell_type": "code",
      "source": [
        "# Build a forecast of gas production for all wells from the training data set.\n",
        "# What is the value of the MAPE metric of your model?\n",
        "from sklearn.metrics import mean_absolute_percentage_error\n",
        " \n",
        "print('MAPE for a 1st degree polynomial {:.2f}%'.format(mean_absolute_percentage_error(y, y_pred)*100))"
      ],
      "metadata": {
        "colab": {
          "base_uri": "https://localhost:8080/"
        },
        "id": "YlA9hSVitRyj",
        "outputId": "dc4047be-6447-4db8-9dfd-3f47f0a03b46"
      },
      "id": "YlA9hSVitRyj",
      "execution_count": 130,
      "outputs": [
        {
          "output_type": "stream",
          "name": "stdout",
          "text": [
            "MAPE for a 1st degree polynomial 3.63%\n"
          ]
        }
      ]
    },
    {
      "cell_type": "markdown",
      "id": "a8f54f93",
      "metadata": {
        "id": "a8f54f93"
      },
      "source": [
        "## Задание 2.5"
      ]
    },
    {
      "cell_type": "markdown",
      "source": [
        "According to the constructed model, the relationship between the percentage of organic carbon and the productivity of the well is reversed. However, according to the positive correlation coefficient between these factors and the target attribute equal to 0.65 (as well as according to real facts from the field of gas production), the relationship should be direct. To make sure of this, you can build a scattering diagram reflecting the relationship between TOC and Prod:"
      ],
      "metadata": {
        "id": "xksiL8smxony"
      },
      "id": "xksiL8smxony"
    },
    {
      "cell_type": "code",
      "source": [
        "sns.scatterplot(x='TOC', y='Prod', data=data);"
      ],
      "metadata": {
        "colab": {
          "base_uri": "https://localhost:8080/",
          "height": 279
        },
        "id": "vN4SLiVDxe6t",
        "outputId": "58ba3769-182b-4e5f-e1ac-3ff349eb9389"
      },
      "id": "vN4SLiVDxe6t",
      "execution_count": 131,
      "outputs": [
        {
          "output_type": "display_data",
          "data": {
            "text/plain": [
              "<Figure size 432x288 with 1 Axes>"
            ],
            "image/png": "[encoded data removed]"
          },
          "metadata": {
            "needs_background": "light"
          }
        }
      ]
    },
    {
      "cell_type": "markdown",
      "source": [
        "This result explains the presence of strong multicollinearity in the data, which \"spoils\" the coefficients.\n",
        "Let's exclude strongly correlating factors from the data. By strong correlation in this problem, we will mean values above 0.7.\n",
        "We will also exclude from the data factors for which the correlation with the target variable is less than 0.05.\n",
        "Thus, we will delete the columns 'Well', 'Perm', 'TOC'."
      ],
      "metadata": {
        "id": "HdA12OuFzsCw"
      },
      "id": "HdA12OuFzsCw"
    },
    {
      "cell_type": "code",
      "source": [
        "# Exclude strongly correlated factors from the data.\n",
        "data_new = data.drop(columns=['Well', 'Perm', 'TOC'])"
      ],
      "metadata": {
        "id": "UpuNAL_R1I-b"
      },
      "id": "UpuNAL_R1I-b",
      "execution_count": 132,
      "outputs": []
    },
    {
      "cell_type": "code",
      "execution_count": 133,
      "id": "39d1ba63",
      "metadata": {
        "id": "39d1ba63"
      },
      "outputs": [],
      "source": [
        "# Build a linear regression on the data updated after removing the factors using the least squares method.\n",
        "X2 = data_new.drop('Prod', axis=1).astype(float)\n",
        "y2 = data_new['Prod']"
      ]
    },
    {
      "cell_type": "code",
      "source": [
        "n = X2.shape[0]\n",
        "X3 = np.column_stack((np.ones(n), X2))\n",
        "w_hat2 = np.linalg.inv(X3.T@X3)@X3.T@np.array(y2)"
      ],
      "metadata": {
        "id": "nCcZoGQO2iO_"
      },
      "id": "nCcZoGQO2iO_",
      "execution_count": 134,
      "outputs": []
    },
    {
      "cell_type": "code",
      "source": [
        "w_hat2"
      ],
      "metadata": {
        "colab": {
          "base_uri": "https://localhost:8080/"
        },
        "id": "Np3LL9U92ohe",
        "outputId": "b32da6bb-d759-4faf-a6a4-73639246a08a"
      },
      "id": "Np3LL9U92ohe",
      "execution_count": 135,
      "outputs": [
        {
          "output_type": "execute_result",
          "data": {
            "text/plain": [
              "array([-1835.44646069,   293.03624565,  -200.03091206,    27.64098209,\n",
              "         517.40272597])"
            ]
          },
          "metadata": {},
          "execution_count": 135
        }
      ]
    },
    {
      "cell_type": "code",
      "source": [
        "y_pred2 = X3 @ w_hat2"
      ],
      "metadata": {
        "id": "7LljTlBQHlHB"
      },
      "id": "7LljTlBQHlHB",
      "execution_count": 136,
      "outputs": []
    },
    {
      "cell_type": "code",
      "source": [
        "# Make a forecast for the entire training dataset and calculate the MAPE metric.\n",
        "from sklearn.preprocessing import PolynomialFeatures\n",
        "\n",
        "poly = PolynomialFeatures(degree=1, include_bias=False)\n",
        "X2_poly = poly.fit_transform(X2)\n",
        "display(pd.DataFrame(X2_poly))"
      ],
      "metadata": {
        "colab": {
          "base_uri": "https://localhost:8080/",
          "height": 424
        },
        "id": "DtP6V3qT3uBR",
        "outputId": "25e93544-8172-4617-e530-23cb303bf5bc"
      },
      "id": "DtP6V3qT3uBR",
      "execution_count": 137,
      "outputs": [
        {
          "output_type": "display_data",
          "data": {
            "text/plain": [
              "         0     1      2     3\n",
              "0    12.08  2.80  81.40  2.31\n",
              "1    12.38  3.22  46.17  1.88\n",
              "2    14.02  4.01  72.80  2.72\n",
              "3    17.67  2.63  39.81  1.88\n",
              "4    17.52  3.18  10.94  1.90\n",
              "..     ...   ...    ...   ...\n",
              "195  11.95  2.97  67.18  2.06\n",
              "196  17.99  3.38  44.32  2.08\n",
              "197  12.12  3.52  57.07  1.73\n",
              "198  15.55  2.48  58.25  2.35\n",
              "199  20.89  3.23  46.17  2.27\n",
              "\n",
              "[200 rows x 4 columns]"
            ],
            "text/html": [
              "\n",
              "  <div id=\"df-d92c832f-26d2-4822-b859-5fda91d3ff0f\">\n",
              "    <div class=\"colab-df-container\">\n",
              "      <div>\n",
              "<style scoped>\n",
              "    .dataframe tbody tr th:only-of-type {\n",
              "        vertical-align: middle;\n",
              "    }\n",
              "\n",
              "    .dataframe tbody tr th {\n",
              "        vertical-align: top;\n",
              "    }\n",
              "\n",
              "    .dataframe thead th {\n",
              "        text-align: right;\n",
              "    }\n",
              "</style>\n",
              "<table border=\"1\" class=\"dataframe\">\n",
              "  <thead>\n",
              "    <tr style=\"text-align: right;\">\n",
              "      <th></th>\n",
              "      <th>0</th>\n",
              "      <th>1</th>\n",
              "      <th>2</th>\n",
              "      <th>3</th>\n",
              "    </tr>\n",
              "  </thead>\n",
              "  <tbody>\n",
              "    <tr>\n",
              "      <th>0</th>\n",
              "      <td>12.08</td>\n",
              "      <td>2.80</td>\n",
              "      <td>81.40</td>\n",
              "      <td>2.31</td>\n",
              "    </tr>\n",
              "    <tr>\n",
              "      <th>1</th>\n",
              "      <td>12.38</td>\n",
              "      <td>3.22</td>\n",
              "      <td>46.17</td>\n",
              "      <td>1.88</td>\n",
              "    </tr>\n",
              "    <tr>\n",
              "      <th>2</th>\n",
              "      <td>14.02</td>\n",
              "      <td>4.01</td>\n",
              "      <td>72.80</td>\n",
              "      <td>2.72</td>\n",
              "    </tr>\n",
              "    <tr>\n",
              "      <th>3</th>\n",
              "      <td>17.67</td>\n",
              "      <td>2.63</td>\n",
              "      <td>39.81</td>\n",
              "      <td>1.88</td>\n",
              "    </tr>\n",
              "    <tr>\n",
              "      <th>4</th>\n",
              "      <td>17.52</td>\n",
              "      <td>3.18</td>\n",
              "      <td>10.94</td>\n",
              "      <td>1.90</td>\n",
              "    </tr>\n",
              "    <tr>\n",
              "      <th>...</th>\n",
              "      <td>...</td>\n",
              "      <td>...</td>\n",
              "      <td>...</td>\n",
              "      <td>...</td>\n",
              "    </tr>\n",
              "    <tr>\n",
              "      <th>195</th>\n",
              "      <td>11.95</td>\n",
              "      <td>2.97</td>\n",
              "      <td>67.18</td>\n",
              "      <td>2.06</td>\n",
              "    </tr>\n",
              "    <tr>\n",
              "      <th>196</th>\n",
              "      <td>17.99</td>\n",
              "      <td>3.38</td>\n",
              "      <td>44.32</td>\n",
              "      <td>2.08</td>\n",
              "    </tr>\n",
              "    <tr>\n",
              "      <th>197</th>\n",
              "      <td>12.12</td>\n",
              "      <td>3.52</td>\n",
              "      <td>57.07</td>\n",
              "      <td>1.73</td>\n",
              "    </tr>\n",
              "    <tr>\n",
              "      <th>198</th>\n",
              "      <td>15.55</td>\n",
              "      <td>2.48</td>\n",
              "      <td>58.25</td>\n",
              "      <td>2.35</td>\n",
              "    </tr>\n",
              "    <tr>\n",
              "      <th>199</th>\n",
              "      <td>20.89</td>\n",
              "      <td>3.23</td>\n",
              "      <td>46.17</td>\n",
              "      <td>2.27</td>\n",
              "    </tr>\n",
              "  </tbody>\n",
              "</table>\n",
              "<p>200 rows × 4 columns</p>\n",
              "</div>\n",
              "      <button class=\"colab-df-convert\" onclick=\"convertToInteractive('df-d92c832f-26d2-4822-b859-5fda91d3ff0f')\"\n",
              "              title=\"Convert this dataframe to an interactive table.\"\n",
              "              style=\"display:none;\">\n",
              "        \n",
              "  <svg xmlns=\"http://www.w3.org/2000/svg\" height=\"24px\"viewBox=\"0 0 24 24\"\n",
              "       width=\"24px\">\n",
              "    <path d=\"M0 0h24v24H0V0z\" fill=\"none\"/>\n",
              "    <path d=\"M18.56 5.44l.94 2.06.94-2.06 2.06-.94-2.06-.94-.94-2.06-.94 2.06-2.06.94zm-11 1L8.5 8.5l.94-2.06 2.06-.94-2.06-.94L8.5 2.5l-.94 2.06-2.06.94zm10 10l.94 2.06.94-2.06 2.06-.94-2.06-.94-.94-2.06-.94 2.06-2.06.94z\"/><path d=\"M17.41 7.96l-1.37-1.37c-.4-.4-.92-.59-1.43-.59-.52 0-1.04.2-1.43.59L10.3 9.45l-7.72 7.72c-.78.78-.78 2.05 0 2.83L4 21.41c.39.39.9.59 1.41.59.51 0 1.02-.2 1.41-.59l7.78-7.78 2.81-2.81c.8-.78.8-2.07 0-2.86zM5.41 20L4 18.59l7.72-7.72 1.47 1.35L5.41 20z\"/>\n",
              "  </svg>\n",
              "      </button>\n",
              "      \n",
              "  <style>\n",
              "    .colab-df-container {\n",
              "      display:flex;\n",
              "      flex-wrap:wrap;\n",
              "      gap: 12px;\n",
              "    }\n",
              "\n",
              "    .colab-df-convert {\n",
              "      background-color: #E8F0FE;\n",
              "      border: none;\n",
              "      border-radius: 50%;\n",
              "      cursor: pointer;\n",
              "      display: none;\n",
              "      fill: #1967D2;\n",
              "      height: 32px;\n",
              "      padding: 0 0 0 0;\n",
              "      width: 32px;\n",
              "    }\n",
              "\n",
              "    .colab-df-convert:hover {\n",
              "      background-color: #E2EBFA;\n",
              "      box-shadow: 0px 1px 2px rgba(60, 64, 67, 0.3), 0px 1px 3px 1px rgba(60, 64, 67, 0.15);\n",
              "      fill: #174EA6;\n",
              "    }\n",
              "\n",
              "    [theme=dark] .colab-df-convert {\n",
              "      background-color: #3B4455;\n",
              "      fill: #D2E3FC;\n",
              "    }\n",
              "\n",
              "    [theme=dark] .colab-df-convert:hover {\n",
              "      background-color: #434B5C;\n",
              "      box-shadow: 0px 1px 3px 1px rgba(0, 0, 0, 0.15);\n",
              "      filter: drop-shadow(0px 1px 2px rgba(0, 0, 0, 0.3));\n",
              "      fill: #FFFFFF;\n",
              "    }\n",
              "  </style>\n",
              "\n",
              "      <script>\n",
              "        const buttonEl =\n",
              "          document.querySelector('#df-d92c832f-26d2-4822-b859-5fda91d3ff0f button.colab-df-convert');\n",
              "        buttonEl.style.display =\n",
              "          google.colab.kernel.accessAllowed ? 'block' : 'none';\n",
              "\n",
              "        async function convertToInteractive(key) {\n",
              "          const element = document.querySelector('#df-d92c832f-26d2-4822-b859-5fda91d3ff0f');\n",
              "          const dataTable =\n",
              "            await google.colab.kernel.invokeFunction('convertToInteractive',\n",
              "                                                     [key], {});\n",
              "          if (!dataTable) return;\n",
              "\n",
              "          const docLinkHtml = 'Like what you see? Visit the ' +\n",
              "            '<a target=\"_blank\" href=https://colab.research.google.com/notebooks/data_table.ipynb>data table notebook</a>'\n",
              "            + ' to learn more about interactive tables.';\n",
              "          element.innerHTML = '';\n",
              "          dataTable['output_type'] = 'display_data';\n",
              "          await google.colab.output.renderOutput(dataTable, element);\n",
              "          const docLink = document.createElement('div');\n",
              "          docLink.innerHTML = docLinkHtml;\n",
              "          element.appendChild(docLink);\n",
              "        }\n",
              "      </script>\n",
              "    </div>\n",
              "  </div>\n",
              "  "
            ]
          },
          "metadata": {}
        }
      ]
    },
    {
      "cell_type": "code",
      "source": [
        "y_pred = X1 @ w_hat"
      ],
      "metadata": {
        "id": "fO_xA6iAHfqx"
      },
      "id": "fO_xA6iAHfqx",
      "execution_count": 138,
      "outputs": []
    },
    {
      "cell_type": "code",
      "source": [
        "from sklearn.metrics import mean_absolute_percentage_error\n",
        " \n",
        "print('MAPE for a 1st degree polynomial {:.2f}%'.format(mean_absolute_percentage_error(y, y_pred2)*100))"
      ],
      "metadata": {
        "colab": {
          "base_uri": "https://localhost:8080/"
        },
        "id": "fisn6-V-5Rrq",
        "outputId": "ba804f51-eff9-43c6-e1ab-bdb1a0415991"
      },
      "id": "fisn6-V-5Rrq",
      "execution_count": 139,
      "outputs": [
        {
          "output_type": "stream",
          "name": "stdout",
          "text": [
            "MAPE for a 1st degree polynomial 4.04%\n"
          ]
        }
      ]
    },
    {
      "cell_type": "markdown",
      "id": "7237eeb2",
      "metadata": {
        "id": "7237eeb2"
      },
      "source": [
        "## Задание 3.1"
      ]
    },
    {
      "cell_type": "code",
      "source": [
        "# Generate third-order polynomial features on the factors that you have chosen to train the models\n",
        "from sklearn.preprocessing import PolynomialFeatures\n",
        "\n",
        "poly = PolynomialFeatures(degree=3, include_bias=False)\n",
        "X3_poly = poly.fit_transform(X2)\n",
        "display(pd.DataFrame(X3_poly))"
      ],
      "metadata": {
        "colab": {
          "base_uri": "https://localhost:8080/",
          "height": 488
        },
        "id": "C9MKlDUaISDp",
        "outputId": "8ab6ddf0-67f7-4579-94d2-4e5945574161"
      },
      "id": "C9MKlDUaISDp",
      "execution_count": 140,
      "outputs": [
        {
          "output_type": "display_data",
          "data": {
            "text/plain": [
              "        0     1      2     3         4        5          6        7        8   \\\n",
              "0    12.08  2.80  81.40  2.31  145.9264  33.8240   983.3120  27.9048   7.8400   \n",
              "1    12.38  3.22  46.17  1.88  153.2644  39.8636   571.5846  23.2744  10.3684   \n",
              "2    14.02  4.01  72.80  2.72  196.5604  56.2202  1020.6560  38.1344  16.0801   \n",
              "3    17.67  2.63  39.81  1.88  312.2289  46.4721   703.4427  33.2196   6.9169   \n",
              "4    17.52  3.18  10.94  1.90  306.9504  55.7136   191.6688  33.2880  10.1124   \n",
              "..     ...   ...    ...   ...       ...      ...        ...      ...      ...   \n",
              "195  11.95  2.97  67.18  2.06  142.8025  35.4915   802.8010  24.6170   8.8209   \n",
              "196  17.99  3.38  44.32  2.08  323.6401  60.8062   797.3168  37.4192  11.4244   \n",
              "197  12.12  3.52  57.07  1.73  146.8944  42.6624   691.6884  20.9676  12.3904   \n",
              "198  15.55  2.48  58.25  2.35  241.8025  38.5640   905.7875  36.5425   6.1504   \n",
              "199  20.89  3.23  46.17  2.27  436.3921  67.4747   964.4913  47.4203  10.4329   \n",
              "\n",
              "           9   ...         24           25         26            27  \\\n",
              "0    227.9200  ...  21.952000   638.176000  18.110400  18552.688000   \n",
              "1    148.6674  ...  33.386248   478.709028  19.492592   6863.973858   \n",
              "2    291.9280  ...  64.481201  1170.631280  43.737872  21252.358400   \n",
              "3    104.7003  ...  18.191447   275.361789  13.003772   4168.118943   \n",
              "4     34.7892  ...  32.157432   110.629656  19.213560    380.593848   \n",
              "..        ...  ...        ...          ...        ...           ...   \n",
              "195  199.5246  ...  26.198073   592.588062  18.171054  13404.062628   \n",
              "196  149.8016  ...  38.614472   506.329408  23.762752   6639.206912   \n",
              "197  200.8864  ...  43.614208   707.120128  21.435392  11464.586848   \n",
              "198  144.4600  ...  15.252992   358.260800  14.453440   8414.795000   \n",
              "199  149.1291  ...  33.698267   481.686993  23.682683   6885.290547   \n",
              "\n",
              "             28         29             30            31          32         33  \n",
              "0    526.495200  14.941080  539353.144000  15305.967600  434.358540  12.326391  \n",
              "1    279.494712  11.380768   98419.153113   4007.537532  163.183248   6.644672  \n",
              "2    794.044160  29.667584  385828.352000  14415.564800  538.603520  20.123648  \n",
              "3    196.836564   9.295472   63092.325141   2979.491868  140.704464   6.644672  \n",
              "4     66.099480  11.479800    1309.338584    227.398840   39.493400   6.859000  \n",
              "..          ...        ...            ...           ...         ...        ...  \n",
              "195  411.020676  12.603492  303193.578232   9297.093944  285.085048   8.741816  \n",
              "196  311.587328  14.623232   87056.109568   4085.665792  191.746048   8.998912  \n",
              "197  347.533472  10.535008  185876.128243   5634.583877  170.804803   5.177717  \n",
              "198  339.481000  13.695800  197645.890625   7973.696875  321.685625  12.977875  \n",
              "199  338.523057  16.643867   98419.153113   4838.888403  237.909393  11.697083  \n",
              "\n",
              "[200 rows x 34 columns]"
            ],
            "text/html": [
              "\n",
              "  <div id=\"df-d88634ee-c2c5-48cc-86ab-607463dc2a05\">\n",
              "    <div class=\"colab-df-container\">\n",
              "      <div>\n",
              "<style scoped>\n",
              "    .dataframe tbody tr th:only-of-type {\n",
              "        vertical-align: middle;\n",
              "    }\n",
              "\n",
              "    .dataframe tbody tr th {\n",
              "        vertical-align: top;\n",
              "    }\n",
              "\n",
              "    .dataframe thead th {\n",
              "        text-align: right;\n",
              "    }\n",
              "</style>\n",
              "<table border=\"1\" class=\"dataframe\">\n",
              "  <thead>\n",
              "    <tr style=\"text-align: right;\">\n",
              "      <th></th>\n",
              "      <th>0</th>\n",
              "      <th>1</th>\n",
              "      <th>2</th>\n",
              "      <th>3</th>\n",
              "      <th>4</th>\n",
              "      <th>5</th>\n",
              "      <th>6</th>\n",
              "      <th>7</th>\n",
              "      <th>8</th>\n",
              "      <th>9</th>\n",
              "      <th>...</th>\n",
              "      <th>24</th>\n",
              "      <th>25</th>\n",
              "      <th>26</th>\n",
              "      <th>27</th>\n",
              "      <th>28</th>\n",
              "      <th>29</th>\n",
              "      <th>30</th>\n",
              "      <th>31</th>\n",
              "      <th>32</th>\n",
              "      <th>33</th>\n",
              "    </tr>\n",
              "  </thead>\n",
              "  <tbody>\n",
              "    <tr>\n",
              "      <th>0</th>\n",
              "      <td>12.08</td>\n",
              "      <td>2.80</td>\n",
              "      <td>81.40</td>\n",
              "      <td>2.31</td>\n",
              "      <td>145.9264</td>\n",
              "      <td>33.8240</td>\n",
              "      <td>983.3120</td>\n",
              "      <td>27.9048</td>\n",
              "      <td>7.8400</td>\n",
              "      <td>227.9200</td>\n",
              "      <td>...</td>\n",
              "      <td>21.952000</td>\n",
              "      <td>638.176000</td>\n",
              "      <td>18.110400</td>\n",
              "      <td>18552.688000</td>\n",
              "      <td>526.495200</td>\n",
              "      <td>14.941080</td>\n",
              "      <td>539353.144000</td>\n",
              "      <td>15305.967600</td>\n",
              "      <td>434.358540</td>\n",
              "      <td>12.326391</td>\n",
              "    </tr>\n",
              "    <tr>\n",
              "      <th>1</th>\n",
              "      <td>12.38</td>\n",
              "      <td>3.22</td>\n",
              "      <td>46.17</td>\n",
              "      <td>1.88</td>\n",
              "      <td>153.2644</td>\n",
              "      <td>39.8636</td>\n",
              "      <td>571.5846</td>\n",
              "      <td>23.2744</td>\n",
              "      <td>10.3684</td>\n",
              "      <td>148.6674</td>\n",
              "      <td>...</td>\n",
              "      <td>33.386248</td>\n",
              "      <td>478.709028</td>\n",
              "      <td>19.492592</td>\n",
              "      <td>6863.973858</td>\n",
              "      <td>279.494712</td>\n",
              "      <td>11.380768</td>\n",
              "      <td>98419.153113</td>\n",
              "      <td>4007.537532</td>\n",
              "      <td>163.183248</td>\n",
              "      <td>6.644672</td>\n",
              "    </tr>\n",
              "    <tr>\n",
              "      <th>2</th>\n",
              "      <td>14.02</td>\n",
              "      <td>4.01</td>\n",
              "      <td>72.80</td>\n",
              "      <td>2.72</td>\n",
              "      <td>196.5604</td>\n",
              "      <td>56.2202</td>\n",
              "      <td>1020.6560</td>\n",
              "      <td>38.1344</td>\n",
              "      <td>16.0801</td>\n",
              "      <td>291.9280</td>\n",
              "      <td>...</td>\n",
              "      <td>64.481201</td>\n",
              "      <td>1170.631280</td>\n",
              "      <td>43.737872</td>\n",
              "      <td>21252.358400</td>\n",
              "      <td>794.044160</td>\n",
              "      <td>29.667584</td>\n",
              "      <td>385828.352000</td>\n",
              "      <td>14415.564800</td>\n",
              "      <td>538.603520</td>\n",
              "      <td>20.123648</td>\n",
              "    </tr>\n",
              "    <tr>\n",
              "      <th>3</th>\n",
              "      <td>17.67</td>\n",
              "      <td>2.63</td>\n",
              "      <td>39.81</td>\n",
              "      <td>1.88</td>\n",
              "      <td>312.2289</td>\n",
              "      <td>46.4721</td>\n",
              "      <td>703.4427</td>\n",
              "      <td>33.2196</td>\n",
              "      <td>6.9169</td>\n",
              "      <td>104.7003</td>\n",
              "      <td>...</td>\n",
              "      <td>18.191447</td>\n",
              "      <td>275.361789</td>\n",
              "      <td>13.003772</td>\n",
              "      <td>4168.118943</td>\n",
              "      <td>196.836564</td>\n",
              "      <td>9.295472</td>\n",
              "      <td>63092.325141</td>\n",
              "      <td>2979.491868</td>\n",
              "      <td>140.704464</td>\n",
              "      <td>6.644672</td>\n",
              "    </tr>\n",
              "    <tr>\n",
              "      <th>4</th>\n",
              "      <td>17.52</td>\n",
              "      <td>3.18</td>\n",
              "      <td>10.94</td>\n",
              "      <td>1.90</td>\n",
              "      <td>306.9504</td>\n",
              "      <td>55.7136</td>\n",
              "      <td>191.6688</td>\n",
              "      <td>33.2880</td>\n",
              "      <td>10.1124</td>\n",
              "      <td>34.7892</td>\n",
              "      <td>...</td>\n",
              "      <td>32.157432</td>\n",
              "      <td>110.629656</td>\n",
              "      <td>19.213560</td>\n",
              "      <td>380.593848</td>\n",
              "      <td>66.099480</td>\n",
              "      <td>11.479800</td>\n",
              "      <td>1309.338584</td>\n",
              "      <td>227.398840</td>\n",
              "      <td>39.493400</td>\n",
              "      <td>6.859000</td>\n",
              "    </tr>\n",
              "    <tr>\n",
              "      <th>...</th>\n",
              "      <td>...</td>\n",
              "      <td>...</td>\n",
              "      <td>...</td>\n",
              "      <td>...</td>\n",
              "      <td>...</td>\n",
              "      <td>...</td>\n",
              "      <td>...</td>\n",
              "      <td>...</td>\n",
              "      <td>...</td>\n",
              "      <td>...</td>\n",
              "      <td>...</td>\n",
              "      <td>...</td>\n",
              "      <td>...</td>\n",
              "      <td>...</td>\n",
              "      <td>...</td>\n",
              "      <td>...</td>\n",
              "      <td>...</td>\n",
              "      <td>...</td>\n",
              "      <td>...</td>\n",
              "      <td>...</td>\n",
              "      <td>...</td>\n",
              "    </tr>\n",
              "    <tr>\n",
              "      <th>195</th>\n",
              "      <td>11.95</td>\n",
              "      <td>2.97</td>\n",
              "      <td>67.18</td>\n",
              "      <td>2.06</td>\n",
              "      <td>142.8025</td>\n",
              "      <td>35.4915</td>\n",
              "      <td>802.8010</td>\n",
              "      <td>24.6170</td>\n",
              "      <td>8.8209</td>\n",
              "      <td>199.5246</td>\n",
              "      <td>...</td>\n",
              "      <td>26.198073</td>\n",
              "      <td>592.588062</td>\n",
              "      <td>18.171054</td>\n",
              "      <td>13404.062628</td>\n",
              "      <td>411.020676</td>\n",
              "      <td>12.603492</td>\n",
              "      <td>303193.578232</td>\n",
              "      <td>9297.093944</td>\n",
              "      <td>285.085048</td>\n",
              "      <td>8.741816</td>\n",
              "    </tr>\n",
              "    <tr>\n",
              "      <th>196</th>\n",
              "      <td>17.99</td>\n",
              "      <td>3.38</td>\n",
              "      <td>44.32</td>\n",
              "      <td>2.08</td>\n",
              "      <td>323.6401</td>\n",
              "      <td>60.8062</td>\n",
              "      <td>797.3168</td>\n",
              "      <td>37.4192</td>\n",
              "      <td>11.4244</td>\n",
              "      <td>149.8016</td>\n",
              "      <td>...</td>\n",
              "      <td>38.614472</td>\n",
              "      <td>506.329408</td>\n",
              "      <td>23.762752</td>\n",
              "      <td>6639.206912</td>\n",
              "      <td>311.587328</td>\n",
              "      <td>14.623232</td>\n",
              "      <td>87056.109568</td>\n",
              "      <td>4085.665792</td>\n",
              "      <td>191.746048</td>\n",
              "      <td>8.998912</td>\n",
              "    </tr>\n",
              "    <tr>\n",
              "      <th>197</th>\n",
              "      <td>12.12</td>\n",
              "      <td>3.52</td>\n",
              "      <td>57.07</td>\n",
              "      <td>1.73</td>\n",
              "      <td>146.8944</td>\n",
              "      <td>42.6624</td>\n",
              "      <td>691.6884</td>\n",
              "      <td>20.9676</td>\n",
              "      <td>12.3904</td>\n",
              "      <td>200.8864</td>\n",
              "      <td>...</td>\n",
              "      <td>43.614208</td>\n",
              "      <td>707.120128</td>\n",
              "      <td>21.435392</td>\n",
              "      <td>11464.586848</td>\n",
              "      <td>347.533472</td>\n",
              "      <td>10.535008</td>\n",
              "      <td>185876.128243</td>\n",
              "      <td>5634.583877</td>\n",
              "      <td>170.804803</td>\n",
              "      <td>5.177717</td>\n",
              "    </tr>\n",
              "    <tr>\n",
              "      <th>198</th>\n",
              "      <td>15.55</td>\n",
              "      <td>2.48</td>\n",
              "      <td>58.25</td>\n",
              "      <td>2.35</td>\n",
              "      <td>241.8025</td>\n",
              "      <td>38.5640</td>\n",
              "      <td>905.7875</td>\n",
              "      <td>36.5425</td>\n",
              "      <td>6.1504</td>\n",
              "      <td>144.4600</td>\n",
              "      <td>...</td>\n",
              "      <td>15.252992</td>\n",
              "      <td>358.260800</td>\n",
              "      <td>14.453440</td>\n",
              "      <td>8414.795000</td>\n",
              "      <td>339.481000</td>\n",
              "      <td>13.695800</td>\n",
              "      <td>197645.890625</td>\n",
              "      <td>7973.696875</td>\n",
              "      <td>321.685625</td>\n",
              "      <td>12.977875</td>\n",
              "    </tr>\n",
              "    <tr>\n",
              "      <th>199</th>\n",
              "      <td>20.89</td>\n",
              "      <td>3.23</td>\n",
              "      <td>46.17</td>\n",
              "      <td>2.27</td>\n",
              "      <td>436.3921</td>\n",
              "      <td>67.4747</td>\n",
              "      <td>964.4913</td>\n",
              "      <td>47.4203</td>\n",
              "      <td>10.4329</td>\n",
              "      <td>149.1291</td>\n",
              "      <td>...</td>\n",
              "      <td>33.698267</td>\n",
              "      <td>481.686993</td>\n",
              "      <td>23.682683</td>\n",
              "      <td>6885.290547</td>\n",
              "      <td>338.523057</td>\n",
              "      <td>16.643867</td>\n",
              "      <td>98419.153113</td>\n",
              "      <td>4838.888403</td>\n",
              "      <td>237.909393</td>\n",
              "      <td>11.697083</td>\n",
              "    </tr>\n",
              "  </tbody>\n",
              "</table>\n",
              "<p>200 rows × 34 columns</p>\n",
              "</div>\n",
              "      <button class=\"colab-df-convert\" onclick=\"convertToInteractive('df-d88634ee-c2c5-48cc-86ab-607463dc2a05')\"\n",
              "              title=\"Convert this dataframe to an interactive table.\"\n",
              "              style=\"display:none;\">\n",
              "        \n",
              "  <svg xmlns=\"http://www.w3.org/2000/svg\" height=\"24px\"viewBox=\"0 0 24 24\"\n",
              "       width=\"24px\">\n",
              "    <path d=\"M0 0h24v24H0V0z\" fill=\"none\"/>\n",
              "    <path d=\"M18.56 5.44l.94 2.06.94-2.06 2.06-.94-2.06-.94-.94-2.06-.94 2.06-2.06.94zm-11 1L8.5 8.5l.94-2.06 2.06-.94-2.06-.94L8.5 2.5l-.94 2.06-2.06.94zm10 10l.94 2.06.94-2.06 2.06-.94-2.06-.94-.94-2.06-.94 2.06-2.06.94z\"/><path d=\"M17.41 7.96l-1.37-1.37c-.4-.4-.92-.59-1.43-.59-.52 0-1.04.2-1.43.59L10.3 9.45l-7.72 7.72c-.78.78-.78 2.05 0 2.83L4 21.41c.39.39.9.59 1.41.59.51 0 1.02-.2 1.41-.59l7.78-7.78 2.81-2.81c.8-.78.8-2.07 0-2.86zM5.41 20L4 18.59l7.72-7.72 1.47 1.35L5.41 20z\"/>\n",
              "  </svg>\n",
              "      </button>\n",
              "      \n",
              "  <style>\n",
              "    .colab-df-container {\n",
              "      display:flex;\n",
              "      flex-wrap:wrap;\n",
              "      gap: 12px;\n",
              "    }\n",
              "\n",
              "    .colab-df-convert {\n",
              "      background-color: #E8F0FE;\n",
              "      border: none;\n",
              "      border-radius: 50%;\n",
              "      cursor: pointer;\n",
              "      display: none;\n",
              "      fill: #1967D2;\n",
              "      height: 32px;\n",
              "      padding: 0 0 0 0;\n",
              "      width: 32px;\n",
              "    }\n",
              "\n",
              "    .colab-df-convert:hover {\n",
              "      background-color: #E2EBFA;\n",
              "      box-shadow: 0px 1px 2px rgba(60, 64, 67, 0.3), 0px 1px 3px 1px rgba(60, 64, 67, 0.15);\n",
              "      fill: #174EA6;\n",
              "    }\n",
              "\n",
              "    [theme=dark] .colab-df-convert {\n",
              "      background-color: #3B4455;\n",
              "      fill: #D2E3FC;\n",
              "    }\n",
              "\n",
              "    [theme=dark] .colab-df-convert:hover {\n",
              "      background-color: #434B5C;\n",
              "      box-shadow: 0px 1px 3px 1px rgba(0, 0, 0, 0.15);\n",
              "      filter: drop-shadow(0px 1px 2px rgba(0, 0, 0, 0.3));\n",
              "      fill: #FFFFFF;\n",
              "    }\n",
              "  </style>\n",
              "\n",
              "      <script>\n",
              "        const buttonEl =\n",
              "          document.querySelector('#df-d88634ee-c2c5-48cc-86ab-607463dc2a05 button.colab-df-convert');\n",
              "        buttonEl.style.display =\n",
              "          google.colab.kernel.accessAllowed ? 'block' : 'none';\n",
              "\n",
              "        async function convertToInteractive(key) {\n",
              "          const element = document.querySelector('#df-d88634ee-c2c5-48cc-86ab-607463dc2a05');\n",
              "          const dataTable =\n",
              "            await google.colab.kernel.invokeFunction('convertToInteractive',\n",
              "                                                     [key], {});\n",
              "          if (!dataTable) return;\n",
              "\n",
              "          const docLinkHtml = 'Like what you see? Visit the ' +\n",
              "            '<a target=\"_blank\" href=https://colab.research.google.com/notebooks/data_table.ipynb>data table notebook</a>'\n",
              "            + ' to learn more about interactive tables.';\n",
              "          element.innerHTML = '';\n",
              "          dataTable['output_type'] = 'display_data';\n",
              "          await google.colab.output.renderOutput(dataTable, element);\n",
              "          const docLink = document.createElement('div');\n",
              "          docLink.innerHTML = docLinkHtml;\n",
              "          element.appendChild(docLink);\n",
              "        }\n",
              "      </script>\n",
              "    </div>\n",
              "  </div>\n",
              "  "
            ]
          },
          "metadata": {}
        }
      ]
    },
    {
      "cell_type": "code",
      "source": [
        "X3_poly.shape"
      ],
      "metadata": {
        "colab": {
          "base_uri": "https://localhost:8080/"
        },
        "id": "y4S6Lt2tKPBq",
        "outputId": "1ae5c83e-b73b-433c-b1c0-ada0b9cd177b"
      },
      "id": "y4S6Lt2tKPBq",
      "execution_count": 141,
      "outputs": [
        {
          "output_type": "execute_result",
          "data": {
            "text/plain": [
              "(200, 34)"
            ]
          },
          "metadata": {},
          "execution_count": 141
        }
      ]
    },
    {
      "cell_type": "code",
      "source": [
        "from sklearn.model_selection import cross_validate"
      ],
      "metadata": {
        "id": "aQo0_6hSlQM0"
      },
      "id": "aQo0_6hSlQM0",
      "execution_count": 143,
      "outputs": []
    },
    {
      "cell_type": "code",
      "source": [
        "from sklearn.linear_model import LinearRegression"
      ],
      "metadata": {
        "id": "Ogl4-IhWnL3i"
      },
      "id": "Ogl4-IhWnL3i",
      "execution_count": 144,
      "outputs": []
    },
    {
      "cell_type": "code",
      "source": [
        "# Train a linear regression model from the sklearn library (Linear Regression) on the obtained polynomial factors.\n",
        "# We highlight the factors that interest us\n",
        "\n",
        "X2 = data_new.drop('Prod', axis=1).astype(float)\n",
        "y2 = data_new['Prod']\n",
        "\n",
        "# adding polynomial features\n",
        "poly = PolynomialFeatures(degree=3, include_bias=False)\n",
        "X2 = poly.fit_transform(X2)\n",
        " \n",
        "# creating a linear regression model\n",
        "lr = LinearRegression()\n",
        " \n",
        "# Estimate the average value of the MAPE metric\n",
        "cv_results = cross_validate(lr, X2, y2, scoring='neg_mean_absolute_percentage_error', cv=5, return_train_score=True)\n",
        "print('MAPE on training folds: {:.2f} %'.format(-cv_results['train_score'].mean()* 100))\n",
        "print('MAPE on validation folds: {:.2f} %'.format(-cv_results['test_score'].mean() * 100))"
      ],
      "metadata": {
        "colab": {
          "base_uri": "https://localhost:8080/"
        },
        "id": "X_YnF-wjlWdp",
        "outputId": "6278d27c-2512-4737-9d8b-5c2ceaa6f0fe"
      },
      "id": "X_YnF-wjlWdp",
      "execution_count": 145,
      "outputs": [
        {
          "output_type": "stream",
          "name": "stdout",
          "text": [
            "MAPE on training folds: 1.77 %\n",
            "MAPE on validation folds: 2.68 %\n"
          ]
        }
      ]
    },
    {
      "cell_type": "markdown",
      "id": "0180433f",
      "metadata": {
        "id": "0180433f"
      },
      "source": [
        "## Задание 3.2"
      ]
    },
    {
      "cell_type": "code",
      "source": [
        "from sklearn.preprocessing import StandardScaler"
      ],
      "metadata": {
        "id": "MjGftklVo86x"
      },
      "id": "MjGftklVo86x",
      "execution_count": 146,
      "outputs": []
    },
    {
      "cell_type": "code",
      "source": [
        "from sklearn.linear_model import Lasso"
      ],
      "metadata": {
        "id": "QdrzZRmLqVXh"
      },
      "id": "QdrzZRmLqVXh",
      "execution_count": 147,
      "outputs": []
    },
    {
      "cell_type": "code",
      "execution_count": 148,
      "id": "bb4c1aa9",
      "metadata": {
        "id": "bb4c1aa9"
      },
      "outputs": [],
      "source": [
        "# Train the Lasso model from the sklearn library on the obtained polynomial factors\n",
        "# Standardize the factors using Standard Scaler.\n",
        "# Set the regularization coefficient to 5.\n",
        "# We highlight the factors that interest us\n",
        "\n",
        "X2 = data_new.drop('Prod', axis=1).astype(float)\n",
        "y2 = data_new['Prod']\n",
        "\n",
        "# initialize the StandardScaler standardizer\n",
        "scaler = StandardScaler()\n",
        "# customize the parameters of the standardizer\n",
        "X2 = scaler.fit_transform(X2)\n",
        "\n",
        "# adding polynomial features\n",
        "poly = PolynomialFeatures(degree=3, include_bias=False)\n",
        "X2 = poly.fit_transform(X2)\n",
        "\n",
        "# creating a linear regression model with L1-regularization\n",
        "lasso = Lasso(alpha=5, max_iter=10000)"
      ]
    },
    {
      "cell_type": "code",
      "source": [
        "# Estimate the average value of the MAPE metric using cross-validation on five folds.\n",
        "cv_results = cross_validate(lasso, X2, y2, scoring='neg_mean_absolute_percentage_error', cv=5, return_train_score=True)\n",
        "print('MAPE on training folds: {:.2f} %'.format(-cv_results['train_score'].mean()* 100))\n",
        "print('MAPE on validation folds: {:.2f} %'.format(-cv_results['test_score'].mean() * 100))"
      ],
      "metadata": {
        "colab": {
          "base_uri": "https://localhost:8080/"
        },
        "id": "C4foJWAapdaI",
        "outputId": "b1ee5f19-4bb1-480b-eeaf-a80f8bd07318"
      },
      "id": "C4foJWAapdaI",
      "execution_count": 149,
      "outputs": [
        {
          "output_type": "stream",
          "name": "stdout",
          "text": [
            "MAPE on training folds: 1.83 %\n",
            "MAPE on validation folds: 2.28 %\n"
          ]
        }
      ]
    },
    {
      "cell_type": "markdown",
      "id": "74c83404",
      "metadata": {
        "id": "74c83404"
      },
      "source": [
        "## Задание 3.3"
      ]
    },
    {
      "cell_type": "code",
      "source": [
        "from sklearn.linear_model import Ridge"
      ],
      "metadata": {
        "id": "rHACpYuFYbM3"
      },
      "id": "rHACpYuFYbM3",
      "execution_count": 150,
      "outputs": []
    },
    {
      "cell_type": "code",
      "execution_count": 151,
      "id": "9e0bed7a",
      "metadata": {
        "colab": {
          "base_uri": "https://localhost:8080/"
        },
        "id": "9e0bed7a",
        "outputId": "e0fe54ef-2a82-43c4-bb55-684fc7889136"
      },
      "outputs": [
        {
          "output_type": "stream",
          "name": "stdout",
          "text": [
            "MAPE on training folds: 1.83 %\n",
            "MAPE on validation folds: 2.72 %\n"
          ]
        }
      ],
      "source": [
        "# Train the Ridge model from the sklearn library on the obtained polynomial factors\n",
        "# Standardize the factors using Standard Scaler.\n",
        "# Set the regularization coefficient to 1.\n",
        "\n",
        "X2 = data_new.drop('Prod', axis=1).astype(float)\n",
        "y2 = data_new['Prod']\n",
        "\n",
        "scaler = StandardScaler()\n",
        "X2 = scaler.fit_transform(X2)\n",
        "\n",
        "# adding polynomial features\n",
        "poly = PolynomialFeatures(degree=3, include_bias=False)\n",
        "X2 = poly.fit_transform(X2)\n",
        "\n",
        "# creating a linear regression model with L2 regularization\n",
        "ridge = Ridge(alpha=1, solver='svd')\n",
        "\n",
        "# Estimate the average value of the MAPE metric using cross-validation on five folds.\n",
        "cv_results = cross_validate(ridge, X2, y2, scoring='neg_mean_absolute_percentage_error', cv=5, return_train_score=True)\n",
        "print('MAPE on training folds: {:.2f} %'.format(-cv_results['train_score'].mean()* 100))\n",
        "print('MAPE on validation folds: {:.2f} %'.format(-cv_results['test_score'].mean() * 100))"
      ]
    }
  ],
  "metadata": {
    "kernelspec": {
      "display_name": "Python 3.9.10 64-bit",
      "language": "python",
      "name": "python3"
    },
    "language_info": {
      "codemirror_mode": {
        "name": "ipython",
        "version": 3
      },
      "file_extension": ".py",
      "mimetype": "text/x-python",
      "name": "python",
      "nbconvert_exporter": "python",
      "pygments_lexer": "ipython3",
      "version": "3.9.10"
    },
    "vscode": {
      "interpreter": {
        "hash": "aee8b7b246df8f9039afb4144a1f6fd8d2ca17a180786b69acc140d282b71a49"
      }
    },
    "colab": {
      "provenance": [],
      "collapsed_sections": [],
      "include_colab_link": true
    }
  },
  "nbformat": 4,
  "nbformat_minor": 5
}