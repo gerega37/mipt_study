{
 "cells": [
  {
   "cell_type": "code",
   "execution_count": 1,
   "metadata": {},
   "outputs": [],
   "source": [
    "class MyClass:\n",
    "    pass"
   ]
  },
  {
   "cell_type": "code",
   "execution_count": 5,
   "metadata": {},
   "outputs": [
    {
     "data": {
      "text/plain": [
       "__main__.MyClass"
      ]
     },
     "execution_count": 5,
     "metadata": {},
     "output_type": "execute_result"
    }
   ],
   "source": [
    "x = MyClass()\n",
    "x.__class__"
   ]
  },
  {
   "cell_type": "code",
   "execution_count": 10,
   "metadata": {},
   "outputs": [],
   "source": [
    "x.name = 'Bilbo Baggins'\n",
    "x.species = 'hobbit'"
   ]
  },
  {
   "cell_type": "code",
   "execution_count": 11,
   "metadata": {},
   "outputs": [
    {
     "name": "stdout",
     "output_type": "stream",
     "text": [
      "Bilbo Baggins is a hobbit\n"
     ]
    }
   ],
   "source": [
    "print(x.name, 'is a', x.species)"
   ]
  },
  {
   "cell_type": "code",
   "execution_count": 12,
   "metadata": {},
   "outputs": [
    {
     "name": "stdout",
     "output_type": "stream",
     "text": [
      "[1]\n",
      "[]\n"
     ]
    }
   ],
   "source": [
    "class Box:\n",
    "    def __init__(self):\n",
    "        self.content = []\n",
    "        \n",
    "x = Box()   # автоматически вызывается метод Box.__init__\n",
    "y = Box()\n",
    "x.content.append(1)\n",
    "print(x.content)\n",
    "print(y.content)"
   ]
  },
  {
   "cell_type": "code",
   "execution_count": 14,
   "metadata": {},
   "outputs": [
    {
     "name": "stdout",
     "output_type": "stream",
     "text": [
      "5.0\n"
     ]
    }
   ],
   "source": [
    "class Point2D:\n",
    "    def __init__(self, x, y):\n",
    "        self.x = x\n",
    "        self.y = y\n",
    "    \n",
    "    \n",
    "    def distance_to_origin(self):\n",
    "        return (self.x ** 2 + self.y ** 2) ** 0.5\n",
    "      \n",
    "\n",
    "p1 = Point2D(3, 4)\n",
    "print(p1.distance_to_origin())"
   ]
  },
  {
   "cell_type": "code",
   "execution_count": null,
   "metadata": {},
   "outputs": [],
   "source": [
    "import numpy as np\n",
    "\n",
    "\n",
    "class Point3D:\n",
    "    def __init__(self, x, y, z):\n",
    "        self.x = x\n",
    "        self.y = y\n",
    "        self.z = z\n",
    "    \n",
    "    def distance_to(self, point):\n",
    "        return ((self.x - point.x)**2 +\n",
    "                (self.y - point.y)**2 +\n",
    "                (self.z - point.z)**2)**0.5\n",
    "\n",
    "\n",
    "class Segment3D:\n",
    "    def __init__(self, point1, point2):\n",
    "        self.point1 = point1\n",
    "        self.point2 = point2\n",
    "        \n",
    "    def length(self):\n",
    "        return ((self.point1.x - self.point2.x)**2 + \n",
    "                (self.point1.y - self.point2.y)**2 + \n",
    "                (self.point1.z - self.point2.z)**2)**0.5\n",
    "    \n",
    "    def middle(self):\n",
    "        return Point3D((self.point1.x + self.point2.x)/2, \n",
    "                        (self.point1.y + self.point2.y)/2, \n",
    "                        (self.point1.z + self.point2.z)/2)\n",
    "        \n",
    "    def cos_to(self, segment2):        \n",
    "        vector1 = np.array([(self.point2.x - self.point1.x),\n",
    "                             (self.point2.y - self.point1.y),\n",
    "                             (self.point2.z - self.point1.z)])\n",
    "        \n",
    "        vector2 = np.array([(segment2.point2.x - segment2.point1.x),\n",
    "                            (segment2.point2.y - segment2.point1.y),\n",
    "                            (segment2.point2.z - segment2.point1.z)])\n",
    "        \n",
    "        return abs(np.dot(vector1, vector2) / (self.length() * segment2.length()))\n",
    "    \n",
    "\n",
    "p1 = Point3D(1, 2, 3)\n",
    "p2 = Point3D(2.5, 1, -2)\n",
    "s = Segment3D(p1, p2)\n",
    "s.length()  \n",
    " \n",
    "m = s.middle()\n",
    "type(m) == Point3D\n",
    "m.x\n",
    "        "
   ]
  }
 ],
 "metadata": {
  "kernelspec": {
   "display_name": "Python 3.9.10 64-bit",
   "language": "python",
   "name": "python3"
  },
  "language_info": {
   "codemirror_mode": {
    "name": "ipython",
    "version": 3
   },
   "file_extension": ".py",
   "mimetype": "text/x-python",
   "name": "python",
   "nbconvert_exporter": "python",
   "pygments_lexer": "ipython3",
   "version": "3.9.10"
  },
  "orig_nbformat": 4,
  "vscode": {
   "interpreter": {
    "hash": "aee8b7b246df8f9039afb4144a1f6fd8d2ca17a180786b69acc140d282b71a49"
   }
  }
 },
 "nbformat": 4,
 "nbformat_minor": 2
}
