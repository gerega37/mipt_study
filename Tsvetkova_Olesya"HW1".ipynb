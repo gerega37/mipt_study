{
  "nbformat": 4,
  "nbformat_minor": 0,
  "metadata": {
    "colab": {
      "provenance": [],
      "collapsed_sections": [],
      "include_colab_link": true
    },
    "kernelspec": {
      "name": "python3",
      "display_name": "Python 3"
    },
    "language_info": {
      "name": "python"
    }
  },
  "cells": [
    {
      "cell_type": "markdown",
      "metadata": {
        "id": "view-in-github",
        "colab_type": "text"
      },
      "source": [
        "<a href=\"https://colab.research.google.com/github/gerega37/mipt_study/blob/main/Tsvetkova_Olesya%22HW1%22.ipynb\" target=\"_parent\"><img src=\"https://colab.research.google.com/assets/colab-badge.svg\" alt=\"Open In Colab\"/></a>"
      ]
    },
    {
      "cell_type": "code",
      "execution_count": null,
      "metadata": {
        "colab": {
          "base_uri": "https://localhost:8080/"
        },
        "id": "_aYjJdIiCXqZ",
        "outputId": "f3a8c90e-01e6-4c43-dcb1-57de3c9f990b"
      },
      "outputs": [
        {
          "output_type": "stream",
          "name": "stdout",
          "text": [
            "Python 3.7.13\n"
          ]
        }
      ],
      "source": [
        "!python3 -V"
      ]
    },
    {
      "cell_type": "markdown",
      "source": [
        "****\n",
        "**Задание 1.**\n",
        "\n",
        "Студент магистратуры обычно спит ночью XX часов и устраивает себе днем тихий час на YY минут. Определите, сколько всего студент спит в сутки (если вообще спит). Программа должна принимать значения XX и YY из стандартного потока ввода (функция input), результат надо выводить в стандартный поток вывода (функция print).\n",
        "\n",
        "\n",
        "```\n",
        "Sample Input 1:\n",
        "7\n",
        "30\n",
        "Sample Output 1:\n",
        "450\n",
        "\n",
        "Sample Input 2:\n",
        "0\n",
        "42\n",
        "Sample Output 2:\n",
        "42\n",
        "```\n"
      ],
      "metadata": {
        "id": "7a_LLXLjCeMS"
      }
    },
    {
      "cell_type": "code",
      "source": [
        "#Решение задания 1\n",
        "#YOUR CODE HERE\n",
        "night_sleep = int(input(\"How many hours do you usually sleep at night? \"))\n",
        "day_sleep = int(input(\"How long does your nap usually last? \"))\n",
        "\n",
        "print(night_sleep*60 + day_sleep)"
      ],
      "metadata": {
        "id": "gWyFoGkrDGhi"
      },
      "execution_count": null,
      "outputs": []
    },
    {
      "cell_type": "markdown",
      "source": [
        "****\n",
        "**Задание 2**\n",
        "\n",
        "Студент МФТИ каждый день ложится спать ровно в полночь и недавно узнал, что оптимальное время для его сна составляет XX минут. Он хочет поставить себе будильник так, чтобы он прозвенел ровно через XX минут после полуночи, однако для этого необходимо указать время сигнала в формате часы, минуты. Помогите студенту определить, на какое время завести будильник.\n",
        "Часы и минуты в выводе программы должны располагаться на разных строках\n",
        "\n",
        "```\n",
        "Sample Input 1:\n",
        "480\n",
        "Sample Output 1:\n",
        "8\n",
        "0\n",
        "\n",
        "Sample Input 2:\n",
        "512\n",
        "Sample Output 2:\n",
        "8\n",
        "32\n",
        "```\n"
      ],
      "metadata": {
        "id": "v_npn-j3C8jg"
      }
    },
    {
      "cell_type": "code",
      "source": [
        "#Решение задания 2\n",
        "#YOUR CODE HERE\n",
        "sleep_duration = int(input())\n",
        "\n",
        "hours = sleep_duration // 60\n",
        "minutes = sleep_duration % 60\n",
        "print(hours, minutes, sep='\\n')\n"
      ],
      "metadata": {
        "id": "6jRyzamrCall"
      },
      "execution_count": null,
      "outputs": []
    },
    {
      "cell_type": "markdown",
      "source": [
        "****\n",
        "**Задание 3**\n",
        "\n",
        "Студент программы “Анализ данных в медицине” узнал, что ему для сна надо XX минут. В отличие от студента МФТИ, наш студент ложится спать после полуночи в HH часов и MM минут. Помогите определить, на какое время ему поставить будильник, чтобы он прозвенел ровно через XX минут после того, как он ляжет спать.\n",
        "На стандартный ввод, каждое в своей строке, подаются значения XX, HH и MM. Гарантируется, что студент программы “Fнализ данных в медицине” должен проснуться в тот же день, что и заснуть. Программа должна выводить время, на которое нужно поставить будильник: в первой строке часы, во второй — минуты.\n",
        "\n",
        "```\n",
        "Sample Input 1:\n",
        "480\n",
        "1\n",
        "2\n",
        "Sample Output 1:\n",
        "9\n",
        "2\n",
        "Sample Input 2:\n",
        "475\n",
        "1\n",
        "55\n",
        "Sample Output 2:\n",
        "9\n",
        "50\n",
        "\n",
        "```"
      ],
      "metadata": {
        "id": "Vxj4YJbkDMu7"
      }
    },
    {
      "cell_type": "code",
      "source": [
        "22#Решение задания 3\n",
        "#YOUR CODE HERE\n",
        "sleep_duration = int(input())\n",
        "badtime_hours = int(input())\n",
        "badtime_minutes = int(input())\n",
        "alarm_hours = (badtime_hours*60 + badtime_minutes + sleep_duration) // 60\n",
        "alarm_minutes = (badtime_hours*60 + badtime_minutes + sleep_duration) % 60\n",
        "print(alarm_hours, alarm_minutes, sep='\\n')"
      ],
      "metadata": {
        "id": "gjcewJX3DesJ"
      },
      "execution_count": null,
      "outputs": []
    },
    {
      "cell_type": "markdown",
      "source": [
        "****\n",
        "**Задание 4**\n",
        "\n",
        "Напишите программу, на вход которой подается список чисел одной строкой. Программа должна для каждого элемента этого списка вывести сумму двух его соседей. Для элементов списка, являющихся крайними, одним из соседей считается элемент, находящийся на противоположном конце этого списка. Например, если на вход подаётся список \"1 3 5 6 10\", то на выход ожидается список \"13 6 9 15 7\" (без кавычек).\n",
        "\n",
        "Если на вход пришло только одно число, надо вывести его же.\n",
        "Вывод должен содержать одну строку с числами нового списка, разделенными пробелом.\n",
        "\n",
        "\n",
        "```\n",
        "Sample Input 1:\n",
        "1 3 5 6 10\n",
        "Sample Output 1:\n",
        "13 6 9 15 7\n",
        "Sample Input 2:\n",
        "10\n",
        "Sample Output 2:\n",
        "10\n",
        "```\n"
      ],
      "metadata": {
        "id": "7g7d57UYDgj5"
      }
    },
    {
      "cell_type": "code",
      "source": [
        "#Решение задания 4\n",
        "#YOUR CODE HERE\n",
        "def sum_numbers(numbers):\n",
        "    numbers_list = list(map(int, numbers.split()))\n",
        "    lenght = len(numbers_list)\n",
        "\n",
        "    if lenght == 1:\n",
        "        return str(numbers_list[0])\n",
        "\n",
        "    new_list = []\n",
        "    for i in range(lenght):\n",
        "        n = numbers_list[i-1] + numbers_list[(i+1)%lenght]\n",
        "        new_list.append(str(n))\n",
        "\n",
        "    return ' '.join(new_list)\n",
        "\n",
        "\n",
        "assert sum_numbers('10') == '10'\n",
        "assert sum_numbers('1 3 5 6 10') == '13 6 9 15 7'"
      ],
      "metadata": {
        "id": "lZuiLojnDpDI"
      },
      "execution_count": 31,
      "outputs": []
    },
    {
      "cell_type": "markdown",
      "source": [
        "****\n",
        "**Задание 5**\n",
        "\n",
        "Напишите программу, которая принимает на вход список чисел в одной строке и выводит на экран в одну строку значения, которые встречаются в нём более одного раза.\n",
        "\n",
        "Для решения задачи может пригодиться метод sort списка (а может и не пригодиться).\n",
        "\n",
        "Выводимые числа не должны повторяться, порядок их вывода может быть произвольным. Разделитель чисел - пробел\n"
      ],
      "metadata": {
        "id": "C9DdzDwdDvlG"
      }
    },
    {
      "cell_type": "code",
      "source": [
        "#Решение задания 5\n",
        "#YOUR CODE HERE\n",
        "numbers = input()\n",
        "numbers_list = list(numbers.split())\n",
        "result = []\n",
        "for number in numbers_list:\n",
        "    if numbers_list.count(number) > 1:\n",
        "        result.append(number)\n",
        "print(*set(result))"
      ],
      "metadata": {
        "id": "7DJQuzktD8xZ"
      },
      "execution_count": null,
      "outputs": []
    },
    {
      "cell_type": "markdown",
      "source": [
        "****\n",
        "**Задание 6**\n",
        "\n",
        "GC-состав является важной характеристикой геномных последовательностей и определяется как процентное соотношение суммы всех гуанинов и цитозинов к общему числу нуклеиновых оснований в геномной последовательности.\n",
        "\n",
        "Напишите программу, которая вычисляет процентное содержание символов G (гуанин) и C (цитозин) в введенной строке (программа не должна зависеть от регистра вводимых символов).\n",
        "Например, в строке \"acggtgttat\" процентное содержание символов G и C равно 4*0.1 * 100 = 40.0, где 4 - это количество символов G и C, а 10 - это длина строки.\n",
        "\n",
        "```\n",
        "Sample Input:\n",
        "acggtgttat\n",
        "Sample Output:\n",
        "40.0\n",
        "```\n"
      ],
      "metadata": {
        "id": "g1S48qv6EHjC"
      }
    },
    {
      "cell_type": "code",
      "source": [
        "#Решение задания 6\n",
        "#YOUR CODE HERE\n",
        "chain = input()\n",
        "chain = chain.lower()\n",
        "counter = 0\n",
        "for gen in chain:\n",
        "  if gen == 'c' or gen == 'g':\n",
        "    counter += 1\n",
        "  result = counter / len(chain) * 100\n",
        "\n",
        "print(result)\n",
        "\n",
        "\n"
      ],
      "metadata": {
        "id": "UmyyLKDlEMAb"
      },
      "execution_count": null,
      "outputs": []
    },
    {
      "cell_type": "markdown",
      "source": [
        "****\n",
        "**Задание 7**\n",
        "\n",
        "Узнав, что ДНК не является случайной строкой, только что поступившие в МФТИ студенты группы аналитиков данных предложили использовать алгоритм сжатия, который сжимает повторяющиеся символы в строке.\n",
        "Кодирование осуществляется следующим образом:\n",
        "s = 'aaaabbсaa' преобразуется в 'a4b2с1a2', то есть группы одинаковых символов исходной строки заменяются на этот символ и количество его повторений в этой позиции строки.\n",
        "\n",
        "Напишите программу, которая считывает строку, кодирует её предложенным алгоритмом и выводит закодированную последовательность на стандартный вывод. Кодирование должно учитывать регистр символов.\n",
        "\n",
        "\n",
        "```\n",
        "Sample Input 1:\n",
        "aaaabbcaa\n",
        "Sample Output 1:\n",
        "a4b2c1a2\n",
        "Sample Input 2:\n",
        "abc\n",
        "Sample Output 2:\n",
        "a1b1c1\n",
        "Sample Input 3:\n",
        "AaAaBBBbbbCCc\n",
        "Sample Output 3:\n",
        "A1a1A1a1B3b3C2c1\n",
        "```\n"
      ],
      "metadata": {
        "id": "Hm7d16upETUx"
      }
    },
    {
      "cell_type": "code",
      "source": [
        "#Решение задания 7\n",
        "#YOUR CODE HERE\n",
        "def squize(sequence):\n",
        "    counter = 1\n",
        "    result = ''\n",
        "    for index in range(1, len(sequence)):\n",
        "        if sequence[index] == sequence[index - 1]:\n",
        "            counter += 1\n",
        "        else:\n",
        "            result += sequence[index - 1] + str(counter)\n",
        "            counter = 1\n",
        "    result += sequence[-1] + str(counter)\n",
        "    return result\n",
        "\n",
        "\n",
        "assert squize('AaAaBBBbbbCCc') == 'A1a1A1a1B3b3C2c1'"
      ],
      "metadata": {
        "id": "Gu7FS9kAEe2Q"
      },
      "execution_count": 76,
      "outputs": []
    },
    {
      "cell_type": "markdown",
      "source": [
        "****\n",
        "**Задание 8**\n",
        "\n",
        "Напишите программу, которая считывает с консоли числа (по одному в строке) до тех пор, пока сумма введённых чисел не будет равна 0 и сразу после этого выводит сумму квадратов всех считанных чисел.\n",
        "Гарантируется, что в какой-то момент сумма введённых чисел окажется равной 0, после этого считывание продолжать не нужно.\n",
        "В примере мы считываем числа 1, -3, 5, -6, -10, 13; в этот момент замечаем, что сумма этих чисел равна нулю и выводим сумму их квадратов, не обращая внимания на то, что остались ещё не прочитанные значения.\n",
        "\n",
        "\n",
        "```\n",
        "Sample Input:\n",
        "1\n",
        "-3\n",
        "5\n",
        "-6\n",
        "-10\n",
        "13\n",
        "4\n",
        "-8\n",
        "Sample Output:\n",
        "340\n",
        "```"
      ],
      "metadata": {
        "id": "Ky16NUTNEpr-"
      }
    },
    {
      "cell_type": "code",
      "source": [
        "#Решение задания 8\n",
        "#YOUR CODE HERE\n",
        "def sum_of_squares():\n",
        "    S = 0\n",
        "    sum_of_squares  = 0\n",
        "    while True:\n",
        "        number = int(input())\n",
        "        S += number\n",
        "        \n",
        "        if S != 0:\n",
        "            sum_of_squares += number**2\n",
        "        else:\n",
        "            return sum_of_squares\n",
        "\n",
        "\n",
        "sum_of_squares()"
      ],
      "metadata": {
        "id": "gSs8AHixFMwU"
      },
      "execution_count": null,
      "outputs": []
    },
    {
      "cell_type": "markdown",
      "source": [
        "****\n",
        "**Задание 9**\n",
        "\n",
        "Самое время использовать математику. Вы поднимаетесь по лестнице. Количество ступенек в ней = n.\n",
        "\n",
        "На каждом этапе вы можете переступить либо одну, либо две ступеньки. Как много уникальных способов добраться до верха существует?\n",
        "\n",
        "*1<=n<=45*\n",
        "\n",
        "\n",
        "\n",
        "```\n",
        "Input: n = 2\n",
        "Output: 2\n",
        "Explanation: There are two ways to climb to the top.\n",
        "1. 1 step + 1 step\n",
        "2. 2 steps\n",
        "\n",
        "Input: n = 3\n",
        "Output: 3\n",
        "Explanation: There are three ways to climb to the top.\n",
        "1. 1 step + 1 step + 1 step\n",
        "2. 1 step + 2 steps\n",
        "3. 2 steps + 1 step\n",
        "```\n",
        "\n"
      ],
      "metadata": {
        "id": "bPeSnwt4F73y"
      }
    },
    {
      "cell_type": "code",
      "source": [
        "#Решение задания 9\n",
        "#YOUR CODE HERE\n",
        "\n",
        "def ways_to_climb(n: int) -> int:\n",
        "\n",
        "    if n <= 1:\n",
        "       return 1\n",
        "    return (ways_to_climb(n-1) + ways_to_climb(n-2))\n",
        "\n",
        "\n",
        "assert ways_to_climb(1) == 1\n",
        "assert ways_to_climb(2) == 2\n",
        "assert ways_to_climb(6) == 13\n"
      ],
      "metadata": {
        "id": "HNhjOQZ7GdI5"
      },
      "execution_count": 75,
      "outputs": []
    },
    {
      "cell_type": "markdown",
      "source": [
        "****\n",
        "**Задание 10**\n",
        "\n",
        "Напишите функцию, чтобы найти самый длинный префикс в листе, составленном из строк.\n",
        "\n",
        "Если общего префикса нет - верните пустую строку.\n",
        "\n",
        "\n",
        "\n",
        "```\n",
        "Input 1: strs = [\"flower\",\"flow\",\"flight\"]\n",
        "Output 1: \"fl\"\n",
        "\n",
        "Input 2: strs = [\"dog\",\"racecar\",\"car\"]\n",
        "Output 2: \"\"\n",
        "Explanation: There is no common prefix among the input strings.\n",
        "```\n",
        "\n"
      ],
      "metadata": {
        "id": "T8A0EHJTG03s"
      }
    },
    {
      "cell_type": "code",
      "source": [
        "#Решение задания 10\n",
        "#YOUR CODE HERE\n",
        "def common_prefix(words):\n",
        "    if not words:\n",
        "      return ''\n",
        "\n",
        "    words.sort(key=len)\n",
        "    min_word = words[0]\n",
        "    result = \"\"\n",
        "    for index in range(len(min_word)):\n",
        "        alpha = min_word[index]\n",
        "        common = False\n",
        "        for word in words:\n",
        "            if word[index] == alpha:\n",
        "              common = True\n",
        "            else:\n",
        "              common = False\n",
        "              break\n",
        "        if common:\n",
        "          result += word[index] \n",
        "    return result\n",
        "\n",
        "\n",
        "assert common_prefix([\"flower\",\"flow\",\"flight\"]) == 'fl'\n",
        "assert common_prefix([\"dog\",\"racecar\",\"car\"]) == ''\n",
        "assert common_prefix([]) == ''\n",
        "assert common_prefix([\"bye\"]) == 'bye'"
      ],
      "metadata": {
        "id": "T-TeO2QoHIMR"
      },
      "execution_count": 58,
      "outputs": []
    },
    {
      "cell_type": "code",
      "source": [],
      "metadata": {
        "id": "gaBVonTZ9x91"
      },
      "execution_count": null,
      "outputs": []
    }
  ]
}