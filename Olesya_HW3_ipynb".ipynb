{
  "cells": [
    {
      "cell_type": "markdown",
      "metadata": {
        "id": "view-in-github",
        "colab_type": "text"
      },
      "source": [
        "<a href=\"https://colab.research.google.com/github/gerega37/mipt_study/blob/main/Olesya_HW3_ipynb%22.ipynb\" target=\"_parent\"><img src=\"https://colab.research.google.com/assets/colab-badge.svg\" alt=\"Open In Colab\"/></a>"
      ]
    },
    {
      "cell_type": "markdown",
      "id": "40e0ed0d-50b8-4e8d-9609-b73dab4172e5",
      "metadata": {
        "id": "40e0ed0d-50b8-4e8d-9609-b73dab4172e5"
      },
      "source": [
        "# Разогрев"
      ]
    },
    {
      "cell_type": "markdown",
      "id": "74094422-038c-48f2-ae6e-96897c473b4c",
      "metadata": {
        "id": "74094422-038c-48f2-ae6e-96897c473b4c"
      },
      "source": [
        "## Задание 1"
      ]
    },
    {
      "cell_type": "markdown",
      "id": "4d598c4c-9fa7-4cce-a972-352008b78691",
      "metadata": {
        "id": "4d598c4c-9fa7-4cce-a972-352008b78691"
      },
      "source": [
        "Иногда, когда нужно создавать много однотипных лямбда функций, еще удобнее будет создать функцию, которая будет их генерировать.\n",
        "\n",
        "Реализуйте функцию ``mod_checker(x, mod=0)``, которая будет **возвращать лямбда функцию** от одного аргумента ``y``, которая будет возвращать ``True``, если остаток от деления ``y`` на ``x`` равен ``mod``, и ``False`` иначе.\n",
        "\n",
        "Если в ``return`` вашей функции написано выражение, отличное от лямбда функции - задание считается проваленным\n",
        "\n",
        "**Sample:**\n",
        "\n",
        "```python\n",
        "mod_3 = mod_checker(3)\n",
        "\n",
        "print(mod_3(3)) # True\n",
        "print(mod_3(4)) # False\n",
        "\n",
        "mod_3_1 = mod_checker(3, 1)\n",
        "print(mod_3_1(4)) # True\n",
        "```"
      ]
    },
    {
      "cell_type": "code",
      "execution_count": null,
      "id": "113b22cc-5ce8-42b5-a733-89a7411c780f",
      "metadata": {
        "id": "113b22cc-5ce8-42b5-a733-89a7411c780f"
      },
      "outputs": [],
      "source": [
        "def mod_checker(x, mod=0):\n",
        "    \"\"\" Return True if the remainder of dividing y by x is mod. \"\"\"\n",
        "    return lambda y: y % x == mod"
      ]
    },
    {
      "cell_type": "code",
      "source": [
        "assert mod_checker(3)(3) == True\n",
        "assert mod_checker(3)(4) == False\n",
        "assert mod_checker(3, 1)(4) == True"
      ],
      "metadata": {
        "id": "wOWgG6nbj8Nc"
      },
      "id": "wOWgG6nbj8Nc",
      "execution_count": null,
      "outputs": []
    },
    {
      "cell_type": "markdown",
      "id": "d46cfa4e-1517-4444-a31b-b39f96beca3e",
      "metadata": {
        "id": "d46cfa4e-1517-4444-a31b-b39f96beca3e"
      },
      "source": [
        "# Numpy"
      ]
    },
    {
      "cell_type": "code",
      "execution_count": null,
      "id": "bec93b3e-f079-4e70-914f-6b19862fc68b",
      "metadata": {
        "id": "bec93b3e-f079-4e70-914f-6b19862fc68b"
      },
      "outputs": [],
      "source": [
        "import numpy as np"
      ]
    },
    {
      "cell_type": "markdown",
      "id": "e065e248-1900-4a4a-8c52-590ef71980b2",
      "metadata": {
        "id": "e065e248-1900-4a4a-8c52-590ef71980b2"
      },
      "source": [
        "## Задание 2\n",
        "Напишите функцию, которая принимает один аргумент - ``n``. Функция должна создать нампаевскую матрицу размером ``(n, n)`` и залить ее шахматным узором. Порядок узора не имеет значения, важен общий паттерн.\n",
        "\n",
        "**Sample:**\n",
        "```python\n",
        "chess_maze(8)\n",
        "\n",
        "[[0 1 0 1 0 1 0 1]\n",
        " [1 0 1 0 1 0 1 0]\n",
        " [0 1 0 1 0 1 0 1]\n",
        " [1 0 1 0 1 0 1 0]\n",
        " [0 1 0 1 0 1 0 1]\n",
        " [1 0 1 0 1 0 1 0]\n",
        " [0 1 0 1 0 1 0 1]\n",
        " [1 0 1 0 1 0 1 0]]\n",
        "```\n",
        "\n"
      ]
    },
    {
      "cell_type": "code",
      "execution_count": null,
      "id": "12de4c2f-9de4-4a57-8e68-27f8125ca7e9",
      "metadata": {
        "id": "12de4c2f-9de4-4a57-8e68-27f8125ca7e9",
        "colab": {
          "base_uri": "https://localhost:8080/"
        },
        "outputId": "55ae1079-08c4-458c-ff1f-a9ed86193c74"
      },
      "outputs": [
        {
          "output_type": "stream",
          "name": "stdout",
          "text": [
            "[[0 1 0 1 0 1 0 1]\n",
            " [1 0 1 0 1 0 1 0]\n",
            " [0 1 0 1 0 1 0 1]\n",
            " [1 0 1 0 1 0 1 0]\n",
            " [0 1 0 1 0 1 0 1]\n",
            " [1 0 1 0 1 0 1 0]\n",
            " [0 1 0 1 0 1 0 1]\n",
            " [1 0 1 0 1 0 1 0]]\n"
          ]
        }
      ],
      "source": [
        "def chess_maze(n: int) -> np.ndarray:\n",
        "    \"\"\"\n",
        "    Create an array with a checkerboard pattern.\n",
        "\n",
        "    param: n is a number of elements in a row\n",
        "    return: an array with a checkerboard pattern\n",
        "    \"\"\"\n",
        "    zeros = np.zeros((n,n), dtype=np.int8)\n",
        "    zeros[1:n:2, 0:n:2] = 1\n",
        "    zeros[0:n:2, 1:n:2] = 1\n",
        "    return zeros\n",
        "\n",
        "\n",
        "print(chess_maze(8))"
      ]
    },
    {
      "cell_type": "markdown",
      "id": "ff71edfc-ecba-48b9-ab5e-db17021e7b30",
      "metadata": {
        "id": "ff71edfc-ecba-48b9-ab5e-db17021e7b30"
      },
      "source": [
        "## Задание 3\n",
        "Напишите функцию, которая принимает 2 аргумента ``arr`` и ``exclude_values``. ``arr`` - это одномерный нампаевский массив, в котором необходимо поменять знак всем числам (инвертировать), которые есть в массиве ``exclude_values``. Действия необходимо делать прямо в исходном массиве, не создавая копий.\n",
        "\n",
        "**Sample:**\n",
        "```python\n",
        "#Исходный вектор \n",
        "arr = np.arange(10+1)\n",
        "exclude_values = np.arange(4, 8)\n",
        " \n",
        "my_func(arr, exclude_values)\n",
        "array([ 0  1  2  3 -4 -5 -6 -7  8  9 10])\n",
        "```"
      ]
    },
    {
      "cell_type": "code",
      "execution_count": null,
      "id": "28e738e2-a873-4e3d-bdd0-222506090674",
      "metadata": {
        "id": "28e738e2-a873-4e3d-bdd0-222506090674"
      },
      "outputs": [],
      "source": [
        "def my_func(arr: np.ndarray, exclude_values: np.ndarray) -> np.ndarray:\n",
        "    \"\"\"\n",
        "    Change a sign of elements in an array which are included in exclude_values.\n",
        "\n",
        "    param: arr is an input array,\n",
        "    exclude_value is an array with elements that need to be changed\n",
        "    return: arr is a modified array\n",
        "    \"\"\"\n",
        "    for i in range(len(arr)):\n",
        "        if arr[i] in exclude_values:\n",
        "            arr[i] = 0 - arr[i]\n",
        "    return arr"
      ]
    },
    {
      "cell_type": "code",
      "source": [
        "assert (my_func(np.arange(2, 8), np.arange(4, 6)) == np.array([2, 3, -4, -5, 6, 7])).all()"
      ],
      "metadata": {
        "id": "nVkJyJqasovb"
      },
      "id": "nVkJyJqasovb",
      "execution_count": null,
      "outputs": []
    },
    {
      "cell_type": "code",
      "source": [
        "assert [1, 2, 3] == [1, 2 ,3]"
      ],
      "metadata": {
        "id": "6lozyZ8itEl-"
      },
      "id": "6lozyZ8itEl-",
      "execution_count": null,
      "outputs": []
    },
    {
      "cell_type": "code",
      "source": [
        "assert (np.array([1, 2, 3]) == np.array([1, 2 ,3])).all()"
      ],
      "metadata": {
        "id": "iEMl1C9PtI_z"
      },
      "id": "iEMl1C9PtI_z",
      "execution_count": null,
      "outputs": []
    },
    {
      "cell_type": "markdown",
      "id": "50fd92a7-30b5-42a1-aed4-a222132496cd",
      "metadata": {
        "id": "50fd92a7-30b5-42a1-aed4-a222132496cd"
      },
      "source": [
        "## Задание 4\n",
        "Напишите функцию, которая принимает одномерный положительный нампаевский массив и минимум 4 раза выводит на экран (функция ``print``) этот же массив, в котором у элементов оставлена только целая часть. Все >= 4 раза функция должна использовать разные методы для извлечения целой части.\n",
        "\n",
        "**Sample:**\n",
        "```python\n",
        "#Исходный вектор \n",
        "arr = np.random.uniform(low=10, high=100,size=20)\n",
        "#Исходный вектор arr:\n",
        "arr\n",
        "[99.54707368 49.26237526 80.50565073 10.10998238 16.39378916 60.64633657\n",
        " 25.49637622 31.06574268 94.48636127 73.41204506 75.70638137 70.43830146\n",
        " 72.28607422 40.59319738 57.85802554 35.39428061 55.25707514 48.00020145\n",
        " 38.39449991 26.19085017]\n",
        " \n",
        "my_func(arr)\n",
        "\n",
        "[99. 49. 80. 10. 16. 60. 25. 31. 94. 73. 75. 70. 72. 40. 57. 35. 55. 48.\n",
        " 38. 26.]\n",
        "[99. 49. 80. 10. 16. 60. 25. 31. 94. 73. 75. 70. 72. 40. 57. 35. 55. 48.\n",
        " 38. 26.]\n",
        "[99. 49. 80. 10. 16. 60. 25. 31. 94. 73. 75. 70. 72. 40. 57. 35. 55. 48.\n",
        " 38. 26.]\n",
        "[99 49 80 10 16 60 25 31 94 73 75 70 72 40 57 35 55 48 38 26]\n",
        "[99. 49. 80. 10. 16. 60. 25. 31. 94. 73. 75. 70. 72. 40. 57. 35. 55. 48.\n",
        " 38. 26.]\n",
        "```\n",
        "\n",
        "В примере 5 выводов print из функции, просто чтобы были :)"
      ]
    },
    {
      "cell_type": "code",
      "execution_count": null,
      "id": "d988e6d5-1e23-411c-a2d0-f5b9f5960b47",
      "metadata": {
        "id": "d988e6d5-1e23-411c-a2d0-f5b9f5960b47",
        "colab": {
          "base_uri": "https://localhost:8080/"
        },
        "outputId": "1046df77-e572-41a2-8c0d-7b3bec063928"
      },
      "outputs": [
        {
          "output_type": "execute_result",
          "data": {
            "text/plain": [
              "(array([12.00726767, 80.06962269, 16.75581765, 97.15236324, 95.87410625,\n",
              "        74.9615048 , 63.51032519, 94.89847967, 62.97277243, 57.14334473,\n",
              "        84.84933379, 67.71494054, 30.66491535, 72.00892834, 78.8844412 ,\n",
              "        50.23323795, 36.07963429, 96.51711838, 21.34879403, 74.2341196 ]),\n",
              " array([12, 80, 16, 97, 95, 74, 63, 94, 62, 57, 84, 67, 30, 72, 78, 50, 36,\n",
              "        96, 21, 74], dtype=uint16),\n",
              " array([12., 80., 16., 97., 95., 74., 63., 94., 62., 57., 84., 67., 30.,\n",
              "        72., 78., 50., 36., 96., 21., 74.]),\n",
              " array([12, 80, 16, 97, 95, 74, 63, 94, 62, 57, 84, 67, 30, 72, 78, 50, 36,\n",
              "        96, 21, 74], dtype=int16),\n",
              " array([12., 80., 16., 97., 95., 74., 63., 94., 62., 57., 84., 67., 30.,\n",
              "        72., 78., 50., 36., 96., 21., 74.]))"
            ]
          },
          "metadata": {},
          "execution_count": 26
        }
      ],
      "source": [
        "def integer(arr: np.ndarray) -> np.ndarray:\n",
        "    \"\"\" Get rid of the fractional part of the floating point number. \"\"\"\n",
        "    arr1 = arr.astype(dtype=np.uint16)\n",
        "    arr2 = np.trunc(arr)\n",
        "    arr3 = arr.astype(dtype=np.int16)\n",
        "    arr4 = np.fix(arr)\n",
        "    return arr, arr1, arr2, arr3, arr4\n",
        "\n",
        "\n",
        "arr = np.random.uniform(low=10, high=100,size=20)"
      ]
    },
    {
      "cell_type": "markdown",
      "id": "e19786ad-aede-4f06-96b8-fb6f60e7bcf7",
      "metadata": {
        "id": "e19786ad-aede-4f06-96b8-fb6f60e7bcf7"
      },
      "source": [
        "## Задание 5\n",
        "Напишите функцию, которая принимает два числа - ``N`` и ``p``. ``N`` - это размер стороны квадратной матрицы np.zeros, ``p`` - это количество индексов в матрице (p не превышает N*N), которые нужно заменить на случайные числа. Индексы и числа нужно выбирать случайно. Функция должна возвращать квадратную матрицу со стороной ``N``, в которой ровно ``p`` чисел заменены на случайные.\n",
        "\n",
        "```python\n",
        "my_func(N=6, p=4)\n",
        "\n",
        "[[56.   0.   0.   0.   0.   0.]\n",
        " [  0.   0.   0.   0.   0.   0.]\n",
        " [99.   0.   0.   0.   0.   0.]\n",
        " [  0.   0.   0. 83.   0.   0.]\n",
        " [  0.   0.   0.   0.   0.   0.]\n",
        " [  0.   0.   0.   0.   1.   0.]]\n",
        "```"
      ]
    },
    {
      "cell_type": "code",
      "source": [
        "def my_func(N: int, p: int) -> np.ndarray:\n",
        "    \"\"\"\n",
        "    Return an array with values changed to random numbers.\n",
        "\n",
        "    :param: N is the side of the square array,\n",
        "    p is a number of numbers to be replaced by random ones\n",
        "    :return: arr is an array with changed values\n",
        "    \"\"\"\n",
        "    arr = np.zeros((N, N))\n",
        "    for i in range(p):\n",
        "        number = np.random.randint(100)\n",
        "        index1 = np.random.randint(N)\n",
        "        index2 = np.random.randint(N)\n",
        "        arr[index1][index2] = number\n",
        "    return arr\n",
        "\n",
        "\n",
        "my_func(6,4)"
      ],
      "metadata": {
        "id": "f8i1ufMn0eNe"
      },
      "id": "f8i1ufMn0eNe",
      "execution_count": null,
      "outputs": []
    },
    {
      "cell_type": "markdown",
      "id": "ea6147b4-ea16-48e8-86f9-20bc90849b68",
      "metadata": {
        "id": "ea6147b4-ea16-48e8-86f9-20bc90849b68"
      },
      "source": [
        "# Pandas"
      ]
    },
    {
      "cell_type": "code",
      "execution_count": null,
      "id": "036794bd-1340-4341-93f2-4c7eda7e011c",
      "metadata": {
        "id": "036794bd-1340-4341-93f2-4c7eda7e011c"
      },
      "outputs": [],
      "source": [
        "import pandas as pd"
      ]
    },
    {
      "cell_type": "markdown",
      "id": "feed93bf-9c0e-443e-9812-f3d88f526be4",
      "metadata": {
        "id": "feed93bf-9c0e-443e-9812-f3d88f526be4"
      },
      "source": [
        "# Задание 6\n",
        "\n",
        "Любым удобным для вас способом создайте ``dataframe`` c именем ``my_data``, в котором две колонки c именами (``type`` - строки, ``value`` - числа с плавающей точкой) и четыре наблюдения в каждой колонке:\n",
        "\n",
        "```\n",
        "type value\n",
        "B    18.\n",
        "\n",
        "B    20.\n",
        "\n",
        "C    10.\n",
        "\n",
        "C    -10.\n",
        "```\n",
        "\n",
        "Какой размер созданного вами датафрейма? (Подумайте, что лучше использовать - информацию из метода df.info() или информацию из метода df.memory_usage()?)\n",
        "1) Измените тип данных колонки type на category. Как изменился размер датафрейма?\n",
        "2) Измените тип данных колонки value на менее жадный. Как изменился размер датафрейма?"
      ]
    },
    {
      "cell_type": "code",
      "execution_count": null,
      "id": "55453b06-c034-4ad4-9350-c9bfdeb5acef",
      "metadata": {
        "id": "55453b06-c034-4ad4-9350-c9bfdeb5acef"
      },
      "outputs": [],
      "source": [
        "my_data = pd.DataFrame(\n",
        "    data=[\n",
        "      ['B', 18],\n",
        "      ['B', 20],\n",
        "      ['C', 10],\n",
        "      ['C', -10]\n",
        "    ],\n",
        "    columns=['type', 'value'],\n",
        "    dtype=(str, float)\n",
        ")"
      ]
    },
    {
      "cell_type": "code",
      "source": [
        "my_data.info()"
      ],
      "metadata": {
        "colab": {
          "base_uri": "https://localhost:8080/"
        },
        "id": "KT8__pfXK1_y",
        "outputId": "f0da141c-21ba-47c1-9327-8ed094523ec9"
      },
      "id": "KT8__pfXK1_y",
      "execution_count": null,
      "outputs": [
        {
          "output_type": "stream",
          "name": "stdout",
          "text": [
            "<class 'pandas.core.frame.DataFrame'>\n",
            "RangeIndex: 4 entries, 0 to 3\n",
            "Data columns (total 2 columns):\n",
            " #   Column  Non-Null Count  Dtype \n",
            "---  ------  --------------  ----- \n",
            " 0   type    4 non-null      object\n",
            " 1   value   4 non-null      object\n",
            "dtypes: object(2)\n",
            "memory usage: 192.0+ bytes\n"
          ]
        }
      ]
    },
    {
      "cell_type": "code",
      "source": [
        "my_data.memory_usage()"
      ],
      "metadata": {
        "colab": {
          "base_uri": "https://localhost:8080/"
        },
        "id": "JmM38_UtTrnl",
        "outputId": "fec2bc90-4a3d-420c-d620-58da2982c101"
      },
      "id": "JmM38_UtTrnl",
      "execution_count": null,
      "outputs": [
        {
          "output_type": "execute_result",
          "data": {
            "text/plain": [
              "Index    128\n",
              "type      32\n",
              "value     32\n",
              "dtype: int64"
            ]
          },
          "metadata": {},
          "execution_count": 127
        }
      ]
    },
    {
      "cell_type": "code",
      "source": [
        "my_data['type'] = my_data['type'].astype('category')\n",
        "my_data.info()\n",
        "my_data.memory_usage()"
      ],
      "metadata": {
        "colab": {
          "base_uri": "https://localhost:8080/"
        },
        "id": "2HMmrBv5LxKM",
        "outputId": "1f4c3460-2694-4f92-fd6e-07c94efa9529"
      },
      "id": "2HMmrBv5LxKM",
      "execution_count": null,
      "outputs": [
        {
          "output_type": "stream",
          "name": "stdout",
          "text": [
            "<class 'pandas.core.frame.DataFrame'>\n",
            "RangeIndex: 4 entries, 0 to 3\n",
            "Data columns (total 2 columns):\n",
            " #   Column  Non-Null Count  Dtype   \n",
            "---  ------  --------------  -----   \n",
            " 0   type    4 non-null      category\n",
            " 1   value   4 non-null      object  \n",
            "dtypes: category(1), object(1)\n",
            "memory usage: 288.0+ bytes\n"
          ]
        },
        {
          "output_type": "execute_result",
          "data": {
            "text/plain": [
              "Index    128\n",
              "type     128\n",
              "value     32\n",
              "dtype: int64"
            ]
          },
          "metadata": {},
          "execution_count": 131
        }
      ]
    },
    {
      "cell_type": "code",
      "source": [
        "my_data['value'] = my_data['value'].astype('float16')\n",
        "my_data.info()\n",
        "my_data.memory_usage()"
      ],
      "metadata": {
        "colab": {
          "base_uri": "https://localhost:8080/"
        },
        "id": "vJLvOCZMWZa7",
        "outputId": "689cff3b-f5bd-46b4-9b04-5467a53ce90d"
      },
      "id": "vJLvOCZMWZa7",
      "execution_count": null,
      "outputs": [
        {
          "output_type": "stream",
          "name": "stdout",
          "text": [
            "<class 'pandas.core.frame.DataFrame'>\n",
            "RangeIndex: 4 entries, 0 to 3\n",
            "Data columns (total 2 columns):\n",
            " #   Column  Non-Null Count  Dtype   \n",
            "---  ------  --------------  -----   \n",
            " 0   type    4 non-null      category\n",
            " 1   value   4 non-null      float16 \n",
            "dtypes: category(1), float16(1)\n",
            "memory usage: 264.0 bytes\n"
          ]
        },
        {
          "output_type": "execute_result",
          "data": {
            "text/plain": [
              "Index    128\n",
              "type     128\n",
              "value      8\n",
              "dtype: int64"
            ]
          },
          "metadata": {},
          "execution_count": 132
        }
      ]
    },
    {
      "cell_type": "markdown",
      "source": [
        "The size of the original data frame is 192.0+ bytes. After changing the data type of the column 'type' to 'category', the size of the data frame increased to 288.0+ bytes. Changing the data type of the column 'data' to float16 reduced the data frame to 264.0 bytes."
      ],
      "metadata": {
        "id": "CgIu_yOmeGMo"
      },
      "id": "CgIu_yOmeGMo"
    },
    {
      "cell_type": "markdown",
      "id": "b5c49f07-2954-43af-89e4-2df23e216af8",
      "metadata": {
        "id": "b5c49f07-2954-43af-89e4-2df23e216af8"
      },
      "source": [
        "# Задание 7\n",
        "Любым удобным для вас способом создайте ``dataframe`` c именем ``my_data``, в котором две колонки c именами (``type`` - строки, ``value`` - числа с плавающей точкой) и десять тысяч (10 000) наблюдений в каждой колонке. В колонке ``type`` должно быть 10 уникальных значений.\n",
        "\n",
        "```python\n",
        "my_data.shape\n",
        "____________\n",
        "(10000, 2)\n",
        "```\n",
        "\n",
        "Какой размер созданного вами датафрейма? (Подумайте, что лучше использовать - информацию из метода df.info() или информацию из метода df.memory_usage()?)\n",
        "1) Измените тип данных колонки type на category. Как изменился размер датафрейма?\n",
        "2) Измените тип данных колонки value на менее жадный. Как изменился размер датафрейма?\n",
        "\n",
        "Во сколько раз уменьшился размер исходного датафрейма после выполнения этих двух операций?"
      ]
    },
    {
      "cell_type": "code",
      "source": [
        "value_data = np.arange(10000, dtype=float)\n",
        "type_data = map(str, np.random.randint(0, 10, 10000))\n",
        "d = {'type': type_data, 'value': value_data}\n",
        "my_data = pd.DataFrame(data=d)\n",
        "display(my_data)"
      ],
      "metadata": {
        "colab": {
          "base_uri": "https://localhost:8080/",
          "height": 424
        },
        "id": "cWcWo9fvFdvT",
        "outputId": "ffd4544c-0a2c-4825-eb2e-7f8818500776"
      },
      "id": "cWcWo9fvFdvT",
      "execution_count": null,
      "outputs": [
        {
          "output_type": "display_data",
          "data": {
            "text/plain": [
              "     type   value\n",
              "0       3     0.0\n",
              "1       4     1.0\n",
              "2       8     2.0\n",
              "3       4     3.0\n",
              "4       5     4.0\n",
              "...   ...     ...\n",
              "9995    5  9995.0\n",
              "9996    4  9996.0\n",
              "9997    1  9997.0\n",
              "9998    0  9998.0\n",
              "9999    7  9999.0\n",
              "\n",
              "[10000 rows x 2 columns]"
            ],
            "text/html": [
              "\n",
              "  <div id=\"df-57d35fe6-c5ce-419f-9451-dd68060e19a4\">\n",
              "    <div class=\"colab-df-container\">\n",
              "      <div>\n",
              "<style scoped>\n",
              "    .dataframe tbody tr th:only-of-type {\n",
              "        vertical-align: middle;\n",
              "    }\n",
              "\n",
              "    .dataframe tbody tr th {\n",
              "        vertical-align: top;\n",
              "    }\n",
              "\n",
              "    .dataframe thead th {\n",
              "        text-align: right;\n",
              "    }\n",
              "</style>\n",
              "<table border=\"1\" class=\"dataframe\">\n",
              "  <thead>\n",
              "    <tr style=\"text-align: right;\">\n",
              "      <th></th>\n",
              "      <th>type</th>\n",
              "      <th>value</th>\n",
              "    </tr>\n",
              "  </thead>\n",
              "  <tbody>\n",
              "    <tr>\n",
              "      <th>0</th>\n",
              "      <td>3</td>\n",
              "      <td>0.0</td>\n",
              "    </tr>\n",
              "    <tr>\n",
              "      <th>1</th>\n",
              "      <td>4</td>\n",
              "      <td>1.0</td>\n",
              "    </tr>\n",
              "    <tr>\n",
              "      <th>2</th>\n",
              "      <td>8</td>\n",
              "      <td>2.0</td>\n",
              "    </tr>\n",
              "    <tr>\n",
              "      <th>3</th>\n",
              "      <td>4</td>\n",
              "      <td>3.0</td>\n",
              "    </tr>\n",
              "    <tr>\n",
              "      <th>4</th>\n",
              "      <td>5</td>\n",
              "      <td>4.0</td>\n",
              "    </tr>\n",
              "    <tr>\n",
              "      <th>...</th>\n",
              "      <td>...</td>\n",
              "      <td>...</td>\n",
              "    </tr>\n",
              "    <tr>\n",
              "      <th>9995</th>\n",
              "      <td>5</td>\n",
              "      <td>9995.0</td>\n",
              "    </tr>\n",
              "    <tr>\n",
              "      <th>9996</th>\n",
              "      <td>4</td>\n",
              "      <td>9996.0</td>\n",
              "    </tr>\n",
              "    <tr>\n",
              "      <th>9997</th>\n",
              "      <td>1</td>\n",
              "      <td>9997.0</td>\n",
              "    </tr>\n",
              "    <tr>\n",
              "      <th>9998</th>\n",
              "      <td>0</td>\n",
              "      <td>9998.0</td>\n",
              "    </tr>\n",
              "    <tr>\n",
              "      <th>9999</th>\n",
              "      <td>7</td>\n",
              "      <td>9999.0</td>\n",
              "    </tr>\n",
              "  </tbody>\n",
              "</table>\n",
              "<p>10000 rows × 2 columns</p>\n",
              "</div>\n",
              "      <button class=\"colab-df-convert\" onclick=\"convertToInteractive('df-57d35fe6-c5ce-419f-9451-dd68060e19a4')\"\n",
              "              title=\"Convert this dataframe to an interactive table.\"\n",
              "              style=\"display:none;\">\n",
              "        \n",
              "  <svg xmlns=\"http://www.w3.org/2000/svg\" height=\"24px\"viewBox=\"0 0 24 24\"\n",
              "       width=\"24px\">\n",
              "    <path d=\"M0 0h24v24H0V0z\" fill=\"none\"/>\n",
              "    <path d=\"M18.56 5.44l.94 2.06.94-2.06 2.06-.94-2.06-.94-.94-2.06-.94 2.06-2.06.94zm-11 1L8.5 8.5l.94-2.06 2.06-.94-2.06-.94L8.5 2.5l-.94 2.06-2.06.94zm10 10l.94 2.06.94-2.06 2.06-.94-2.06-.94-.94-2.06-.94 2.06-2.06.94z\"/><path d=\"M17.41 7.96l-1.37-1.37c-.4-.4-.92-.59-1.43-.59-.52 0-1.04.2-1.43.59L10.3 9.45l-7.72 7.72c-.78.78-.78 2.05 0 2.83L4 21.41c.39.39.9.59 1.41.59.51 0 1.02-.2 1.41-.59l7.78-7.78 2.81-2.81c.8-.78.8-2.07 0-2.86zM5.41 20L4 18.59l7.72-7.72 1.47 1.35L5.41 20z\"/>\n",
              "  </svg>\n",
              "      </button>\n",
              "      \n",
              "  <style>\n",
              "    .colab-df-container {\n",
              "      display:flex;\n",
              "      flex-wrap:wrap;\n",
              "      gap: 12px;\n",
              "    }\n",
              "\n",
              "    .colab-df-convert {\n",
              "      background-color: #E8F0FE;\n",
              "      border: none;\n",
              "      border-radius: 50%;\n",
              "      cursor: pointer;\n",
              "      display: none;\n",
              "      fill: #1967D2;\n",
              "      height: 32px;\n",
              "      padding: 0 0 0 0;\n",
              "      width: 32px;\n",
              "    }\n",
              "\n",
              "    .colab-df-convert:hover {\n",
              "      background-color: #E2EBFA;\n",
              "      box-shadow: 0px 1px 2px rgba(60, 64, 67, 0.3), 0px 1px 3px 1px rgba(60, 64, 67, 0.15);\n",
              "      fill: #174EA6;\n",
              "    }\n",
              "\n",
              "    [theme=dark] .colab-df-convert {\n",
              "      background-color: #3B4455;\n",
              "      fill: #D2E3FC;\n",
              "    }\n",
              "\n",
              "    [theme=dark] .colab-df-convert:hover {\n",
              "      background-color: #434B5C;\n",
              "      box-shadow: 0px 1px 3px 1px rgba(0, 0, 0, 0.15);\n",
              "      filter: drop-shadow(0px 1px 2px rgba(0, 0, 0, 0.3));\n",
              "      fill: #FFFFFF;\n",
              "    }\n",
              "  </style>\n",
              "\n",
              "      <script>\n",
              "        const buttonEl =\n",
              "          document.querySelector('#df-57d35fe6-c5ce-419f-9451-dd68060e19a4 button.colab-df-convert');\n",
              "        buttonEl.style.display =\n",
              "          google.colab.kernel.accessAllowed ? 'block' : 'none';\n",
              "\n",
              "        async function convertToInteractive(key) {\n",
              "          const element = document.querySelector('#df-57d35fe6-c5ce-419f-9451-dd68060e19a4');\n",
              "          const dataTable =\n",
              "            await google.colab.kernel.invokeFunction('convertToInteractive',\n",
              "                                                     [key], {});\n",
              "          if (!dataTable) return;\n",
              "\n",
              "          const docLinkHtml = 'Like what you see? Visit the ' +\n",
              "            '<a target=\"_blank\" href=https://colab.research.google.com/notebooks/data_table.ipynb>data table notebook</a>'\n",
              "            + ' to learn more about interactive tables.';\n",
              "          element.innerHTML = '';\n",
              "          dataTable['output_type'] = 'display_data';\n",
              "          await google.colab.output.renderOutput(dataTable, element);\n",
              "          const docLink = document.createElement('div');\n",
              "          docLink.innerHTML = docLinkHtml;\n",
              "          element.appendChild(docLink);\n",
              "        }\n",
              "      </script>\n",
              "    </div>\n",
              "  </div>\n",
              "  "
            ]
          },
          "metadata": {}
        }
      ]
    },
    {
      "cell_type": "code",
      "source": [
        "my_data.info()"
      ],
      "metadata": {
        "colab": {
          "base_uri": "https://localhost:8080/"
        },
        "id": "CFdPMIAOS-OL",
        "outputId": "2ddc4ba5-b931-4d45-cfd4-4ef842def2a2"
      },
      "id": "CFdPMIAOS-OL",
      "execution_count": null,
      "outputs": [
        {
          "output_type": "stream",
          "name": "stdout",
          "text": [
            "<class 'pandas.core.frame.DataFrame'>\n",
            "RangeIndex: 10000 entries, 0 to 9999\n",
            "Data columns (total 2 columns):\n",
            " #   Column  Non-Null Count  Dtype  \n",
            "---  ------  --------------  -----  \n",
            " 0   type    10000 non-null  object \n",
            " 1   value   10000 non-null  float64\n",
            "dtypes: float64(1), object(1)\n",
            "memory usage: 156.4+ KB\n"
          ]
        }
      ]
    },
    {
      "cell_type": "code",
      "source": [
        "# df.memory_usage() helps us to understand which column takes up more memory\n",
        "my_data.memory_usage()"
      ],
      "metadata": {
        "colab": {
          "base_uri": "https://localhost:8080/"
        },
        "id": "jZ2F6tG6S-9M",
        "outputId": "03b0531c-e83c-4b04-9509-cda5cfece34b"
      },
      "id": "jZ2F6tG6S-9M",
      "execution_count": null,
      "outputs": [
        {
          "output_type": "execute_result",
          "data": {
            "text/plain": [
              "Index      128\n",
              "type     80000\n",
              "value    80000\n",
              "dtype: int64"
            ]
          },
          "metadata": {},
          "execution_count": 135
        }
      ]
    },
    {
      "cell_type": "code",
      "source": [
        "my_data['type'] = my_data['type'].astype('category')\n",
        "my_data.info()"
      ],
      "metadata": {
        "colab": {
          "base_uri": "https://localhost:8080/"
        },
        "id": "fHIeko46SeEG",
        "outputId": "8aed0149-3adf-4ad6-8e3b-731f6015ca9f"
      },
      "id": "fHIeko46SeEG",
      "execution_count": null,
      "outputs": [
        {
          "output_type": "stream",
          "name": "stdout",
          "text": [
            "<class 'pandas.core.frame.DataFrame'>\n",
            "RangeIndex: 10000 entries, 0 to 9999\n",
            "Data columns (total 2 columns):\n",
            " #   Column  Non-Null Count  Dtype   \n",
            "---  ------  --------------  -----   \n",
            " 0   type    10000 non-null  category\n",
            " 1   value   10000 non-null  float64 \n",
            "dtypes: category(1), float64(1)\n",
            "memory usage: 88.4 KB\n"
          ]
        }
      ]
    },
    {
      "cell_type": "code",
      "source": [
        "my_data['value'] = my_data['value'].astype('float16')\n",
        "# the original data frame has decreased by more than 5 times\n",
        "my_data.info()"
      ],
      "metadata": {
        "colab": {
          "base_uri": "https://localhost:8080/"
        },
        "id": "MyywoULQTM7E",
        "outputId": "07de57b5-9784-4dc3-a6d2-14a11c872011"
      },
      "id": "MyywoULQTM7E",
      "execution_count": null,
      "outputs": [
        {
          "output_type": "stream",
          "name": "stdout",
          "text": [
            "<class 'pandas.core.frame.DataFrame'>\n",
            "RangeIndex: 10000 entries, 0 to 9999\n",
            "Data columns (total 2 columns):\n",
            " #   Column  Non-Null Count  Dtype   \n",
            "---  ------  --------------  -----   \n",
            " 0   type    10000 non-null  category\n",
            " 1   value   10000 non-null  float16 \n",
            "dtypes: category(1), float16(1)\n",
            "memory usage: 29.8 KB\n"
          ]
        }
      ]
    },
    {
      "cell_type": "markdown",
      "source": [
        "The size of the original data frame is 156.4+ KB. After changing the data type of the column 'type' to 'category', the size of the data frame decreased to 88.4+ KB. Changing the data type of the column 'data' to float16 reduced the data frame to 29.8 KB.\n",
        "\n"
      ],
      "metadata": {
        "id": "I_RpoPUhf9NN"
      },
      "id": "I_RpoPUhf9NN"
    },
    {
      "cell_type": "markdown",
      "id": "d1614009-c31c-494c-9b7e-010b3fca3adc",
      "metadata": {
        "id": "d1614009-c31c-494c-9b7e-010b3fca3adc"
      },
      "source": [
        "#### Для решения дальнейших задач мы будем использовать следующий датасет, загрузите его с помощью команды:"
      ]
    },
    {
      "cell_type": "code",
      "execution_count": null,
      "id": "9de2ceb8-28bf-4f4f-a67c-5c3cf17d09e9",
      "metadata": {
        "id": "9de2ceb8-28bf-4f4f-a67c-5c3cf17d09e9"
      },
      "outputs": [],
      "source": [
        "df = pd.read_csv('https://stepik.org/media/attachments/course/4852/my_stat.csv')"
      ]
    },
    {
      "cell_type": "code",
      "execution_count": null,
      "id": "bcf8eca6-4c68-43a9-a250-7b2b0aba6a92",
      "metadata": {
        "id": "bcf8eca6-4c68-43a9-a250-7b2b0aba6a92"
      },
      "outputs": [],
      "source": [
        "df"
      ]
    },
    {
      "cell_type": "markdown",
      "id": "02e37431-e600-4bf5-bfcf-5641bfcaccd8",
      "metadata": {
        "id": "02e37431-e600-4bf5-bfcf-5641bfcaccd8"
      },
      "source": [
        "Примечание: все операции с исходным датафреймом должны быть ``inplace``. То есть исходный датафрейм в переменной ``df`` **должен** измениться"
      ]
    },
    {
      "cell_type": "markdown",
      "id": "25499d55-3c26-4f2e-b642-e05f94341d69",
      "metadata": {
        "id": "25499d55-3c26-4f2e-b642-e05f94341d69"
      },
      "source": [
        "# Задание 8\n",
        "\n",
        "В переменную с именем subset_1 сохраните только первые 19 строк и только 1 и 3 колонку.\n",
        "\n",
        "В переменную с именем subset_2 сохраните все строки кроме 2, 3 и 18 и только 2 и 4 колонку."
      ]
    },
    {
      "cell_type": "code",
      "execution_count": null,
      "id": "0e4b85c0-946b-4d65-a2f4-9940f5149cc7",
      "metadata": {
        "id": "0e4b85c0-946b-4d65-a2f4-9940f5149cc7"
      },
      "outputs": [],
      "source": [
        "subset_1 = df.iloc[:19, [0,2]]"
      ]
    },
    {
      "cell_type": "code",
      "source": [
        "subset_2 = df.iloc[:, [1,3]]\n",
        "subset_2 = subset_2.drop([1,2,17])"
      ],
      "metadata": {
        "id": "pQ2rTIc26qEj"
      },
      "id": "pQ2rTIc26qEj",
      "execution_count": null,
      "outputs": []
    },
    {
      "cell_type": "markdown",
      "id": "57db07ab-f016-4340-880b-cd640e789407",
      "metadata": {
        "id": "57db07ab-f016-4340-880b-cd640e789407"
      },
      "source": [
        "# Задание 9\n",
        "\n",
        "В переменную subset_3 сохраните только те наблюдения, у которых значения переменной V1 строго больше 0, и значение переменной V3  равняется 'A'.\n",
        "\n",
        "В переменную  subset_4  сохраните только те наблюдения, у которых значения переменной V2  не равняются 10, или значения переменной V4 больше или равно 1."
      ]
    },
    {
      "cell_type": "code",
      "execution_count": null,
      "id": "a9a7558d-14f9-4a64-9b1f-9a77ab52304c",
      "metadata": {
        "id": "a9a7558d-14f9-4a64-9b1f-9a77ab52304c"
      },
      "outputs": [],
      "source": [
        "mask1 = subset_1['V1'] > 0\n",
        "mask2 = subset_1['V3'] == 'A'\n",
        "subset_3 = subset_1[mask1 & mask2]"
      ]
    },
    {
      "cell_type": "code",
      "source": [
        "mask3 = subset_2['V2'] != 10\n",
        "mask4 = subset_2['V4'] >= 1\n",
        "subset_4 = subset_2[mask3 | mask4]"
      ],
      "metadata": {
        "id": "Xq1jqsJ3h3og"
      },
      "id": "Xq1jqsJ3h3og",
      "execution_count": null,
      "outputs": []
    },
    {
      "cell_type": "markdown",
      "id": "002c85bb-122e-47c0-8016-64afd80ce988",
      "metadata": {
        "id": "002c85bb-122e-47c0-8016-64afd80ce988"
      },
      "source": [
        "# Задание 10\n",
        "Добавьте следующие колонки в df:\n",
        "\n",
        "1) V5 = V1 + V4\n",
        "2) V6 = **натуральный** логарифм переменной V2"
      ]
    },
    {
      "cell_type": "code",
      "execution_count": null,
      "id": "d99e49b2-3213-4a6b-9eb8-97118175d9b1",
      "metadata": {
        "id": "d99e49b2-3213-4a6b-9eb8-97118175d9b1"
      },
      "outputs": [],
      "source": [
        "df['V5'] = df['V1'] + df['V4']\n",
        "df['V6'] =  np.log(df['V2'])"
      ]
    },
    {
      "cell_type": "markdown",
      "id": "68231357-e61c-4cd8-aa11-81cde18b856c",
      "metadata": {
        "id": "68231357-e61c-4cd8-aa11-81cde18b856c"
      },
      "source": [
        "# Задание 11\n",
        "\n",
        "Переименуйте колонки в df.\n",
        "\n",
        "1) V1 -> session_value\n",
        "\n",
        "2) V2 -> group\n",
        "\n",
        "3) V3 -> time\n",
        "\n",
        "4) V4 -> n_users"
      ]
    },
    {
      "cell_type": "code",
      "execution_count": null,
      "id": "d92e15a0-8cf7-4f99-bb84-3b45b36d6c8d",
      "metadata": {
        "id": "d92e15a0-8cf7-4f99-bb84-3b45b36d6c8d"
      },
      "outputs": [],
      "source": [
        "df.rename(\n",
        "    {\"V1\": \"session_value\", \"V2\": \"group\", \"V3\": \"time\", \"V4\": \"n_users\"},\n",
        "          axis=\"columns\")"
      ]
    },
    {
      "cell_type": "markdown",
      "id": "855d8eb1-d7b2-4908-a404-cfeac1dcf3c0",
      "metadata": {
        "id": "855d8eb1-d7b2-4908-a404-cfeac1dcf3c0"
      },
      "source": [
        "# Задание 12\n",
        "В датафрейме ``my_stat`` в колонке ``session_value`` замените все пропущенные значения на нули.\n",
        "\n",
        "В колонке ``n_users`` замените все отрицательные значения на медианное значение переменной ``n_users`` (без учета отрицательных значений, разумеется)."
      ]
    },
    {
      "cell_type": "code",
      "execution_count": null,
      "id": "aa82b450-9804-44f0-8c37-7d1247850132",
      "metadata": {
        "id": "aa82b450-9804-44f0-8c37-7d1247850132"
      },
      "outputs": [],
      "source": [
        "url = 'https://stepik.org/media/attachments/course/4852/my_stat_1.csv'\n",
        "my_stat = pd.read_csv(url)"
      ]
    },
    {
      "cell_type": "code",
      "execution_count": null,
      "id": "0ce858ba-5a46-4355-8e02-4051d1c7bf92",
      "metadata": {
        "id": "0ce858ba-5a46-4355-8e02-4051d1c7bf92"
      },
      "outputs": [],
      "source": [
        "# replace all missing values with zero\n",
        "my_stat = my_stat.fillna(0)"
      ]
    },
    {
      "cell_type": "code",
      "source": [
        "negative_values = my_stat['n_users'] < 0\n",
        "my_stat[negative_values] = my_stat[my_stat['n_users'] > 0]['n_users'].median()"
      ],
      "metadata": {
        "id": "x0XWuNUxoPxH"
      },
      "id": "x0XWuNUxoPxH",
      "execution_count": null,
      "outputs": []
    }
  ],
  "metadata": {
    "kernelspec": {
      "display_name": "python10",
      "language": "python",
      "name": "python10"
    },
    "language_info": {
      "codemirror_mode": {
        "name": "ipython",
        "version": 3
      },
      "file_extension": ".py",
      "mimetype": "text/x-python",
      "name": "python",
      "nbconvert_exporter": "python",
      "pygments_lexer": "ipython3",
      "version": "3.10.7"
    },
    "colab": {
      "provenance": [],
      "collapsed_sections": [],
      "include_colab_link": true
    }
  },
  "nbformat": 4,
  "nbformat_minor": 5
}