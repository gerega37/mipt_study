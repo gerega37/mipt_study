{
  "cells": [
    {
      "cell_type": "markdown",
      "metadata": {
        "id": "view-in-github",
        "colab_type": "text"
      },
      "source": [
        "<a href=\"https://colab.research.google.com/github/gerega37/mipt_study/blob/main/Tsvetkova_HW_week3%22.ipynb\" target=\"_parent\"><img src=\"https://colab.research.google.com/assets/colab-badge.svg\" alt=\"Open In Colab\"/></a>"
      ]
    },
    {
      "cell_type": "markdown",
      "metadata": {
        "id": "2GJcyIoN4arc"
      },
      "source": [
        "#Reversed integer"
      ]
    },
    {
      "cell_type": "markdown",
      "metadata": {
        "id": "nDpM0sXf4dv5"
      },
      "source": [
        "Вам дано число целого типа ``a``. Вам необходимо написать функцию, которая принимает это число на вход, а на выход выдает целое число, цифры в котором записаны в обратном порядке.\n",
        "\n",
        "\n",
        "**Sample Input 1:**\n",
        "\n",
        "``\n",
        "a = 123\n",
        "``\n",
        "\n",
        "**Sample Output 1:**\n",
        "\n",
        "``321``\n",
        "\n",
        "**Sample Input 2:**\n",
        "\n",
        "``\n",
        "a = 120\n",
        "``\n",
        "\n",
        "**Sample Output 2:**\n",
        "\n",
        "``21``\n",
        "\n",
        "**Sample Input 3:**\n",
        "\n",
        "``\n",
        "-123\n",
        "``\n",
        "\n",
        "**Sample Output 3:**\n",
        "\n",
        "``321``"
      ]
    },
    {
      "cell_type": "code",
      "execution_count": 12,
      "metadata": {
        "id": "zy1TNSPU6ARi"
      },
      "outputs": [],
      "source": [
        "def reverse_number(a: int) -> int:\n",
        "    \"\"\"\n",
        "    Return a number in which the digits are written in reverse order.\n",
        "\n",
        "    :param: a natural number, which needs to be reversed\n",
        "    :return: reversed number\n",
        "    \"\"\"\n",
        "    number = str(a)\n",
        "    if number[0] == '-':\n",
        "        number = number[1:] \n",
        "    \n",
        "    return int(number[::-1])\n",
        "\n",
        "\n",
        "assert reverse_number(123) == 321\n",
        "assert reverse_number(120) == 21\n",
        "assert reverse_number(-123) == 321"
      ]
    },
    {
      "cell_type": "markdown",
      "metadata": {
        "id": "GT_lUMYz5YfQ"
      },
      "source": [
        "#Выколотый квадрат\n"
      ]
    },
    {
      "cell_type": "markdown",
      "metadata": {
        "id": "fHOx6Dnu5cEQ"
      },
      "source": [
        "Напишите функцию, которая принимает единственное число ``n: int``. Это число определяет длину стороны квадрата. Функция должна нарисовать квадрат из звездочек, при этом звездочки должны быть только на ребрах квадрата, центр должен быть выколот.\n",
        "\n",
        "**Sample Input 1:**\n",
        "\n",
        "``\n",
        "n = 5\n",
        "``\n",
        "\n",
        "**Sample Output 1:**\n",
        "```\n",
        "* * * * *\n",
        "*       *\n",
        "*       *\n",
        "*       *\n",
        "* * * * *\n",
        "\n",
        "```"
      ]
    },
    {
      "cell_type": "code",
      "execution_count": null,
      "metadata": {
        "id": "JUMn7OVK5_r0"
      },
      "outputs": [],
      "source": [
        "def make_square(n: int) -> None:\n",
        "    \"\"\"Make a hollow square of stars.\"\"\"\n",
        "    for i in range(n):\n",
        "        for j in range(n):\n",
        "            if i == 0 or i == (n-1) or j == 0 or j == (n-1):\n",
        "                print('*', end=' ')\n",
        "            else:\n",
        "                print(' ', end=' ')\n",
        "            \n",
        "        print()\n",
        "\n",
        "\n",
        "make_square(5)"
      ]
    },
    {
      "cell_type": "markdown",
      "metadata": {
        "id": "8oZaq3fE6f79"
      },
      "source": [
        "#Пермутации"
      ]
    },
    {
      "cell_type": "markdown",
      "metadata": {
        "id": "ylJnUpIk6jrX"
      },
      "source": [
        "Вам дан массив с целыми числами ``nums``. Напишите функцию, которая принимает на вход данный массив и возвращает все возможные пермутации с данными числами. Возвращать массивы можно в любом порядке.\n",
        "\n",
        "**Sample Input 1:**\n",
        "\n",
        "``\n",
        "nums = [1,2,3]\n",
        "``\n",
        "\n",
        "**Sample Output 1:**\n",
        "\n",
        "``[[1,2,3],[1,3,2],[2,1,3],[2,3,1],[3,1,2],[3,2,1]]``\n",
        "\n",
        "**Sample Input 2:**\n",
        "\n",
        "``\n",
        "nums = [0,1]\n",
        "``\n",
        "\n",
        "**Sample Output 2:**\n",
        "\n",
        "``[[0,1],[1,0]]``\n",
        "\n",
        "**Sample Input 3:**\n",
        "\n",
        "``\n",
        "nums = [1]\n",
        "``\n",
        "\n",
        "**Sample Output 3:**\n",
        "\n",
        "``[[1]]``"
      ]
    },
    {
      "cell_type": "code",
      "execution_count": null,
      "metadata": {
        "id": "AzhJABzn7GYR"
      },
      "outputs": [],
      "source": [
        "import itertools\n",
        "\n",
        "\n",
        "def permutations(nums: list) -> list:\n",
        "    \"\"\"Return possible permutations made from the input numbers.\"\"\"\n",
        "    new_list = []\n",
        "    sequence = list(itertools.permutations(nums))\n",
        "    # move the tuples to the lists\n",
        "    for numbers in sequence:\n",
        "        new_list.append(list(numbers))\n",
        "    return new_list\n",
        "\n",
        "\n",
        "\n",
        "nums = [1,2,3]\n",
        "permutations(nums)"
      ]
    },
    {
      "cell_type": "markdown",
      "metadata": {
        "id": "MDEu6tZQYATy"
      },
      "source": [
        "### Почти двойной факториал\n",
        "Дано натуральное $N \\leqslant 100$.  Выведите произведение всех чётных натуральных чисел, не превосходящих $N$."
      ]
    },
    {
      "cell_type": "code",
      "source": [
        "def almost_double_factorial(n: int) -> int:\n",
        "    \"\"\"Return the product of all even numbers less than the input number.\"\"\"\n",
        "    if n % 2 == 0:\n",
        "        if n == 0: return 1\n",
        "        if n == 1: return 1\n",
        "    elif n % 2 == 1:\n",
        "        n -= 1\n",
        "    return almost_double_factorial(n-2) * n\n",
        "\n",
        "\n",
        "assert almost_double_factorial(5) == 8\n",
        "assert almost_double_factorial(6) == 48\n",
        "assert almost_double_factorial(7) == 48"
      ],
      "metadata": {
        "id": "2d8C5AoJ3TCB"
      },
      "execution_count": 29,
      "outputs": []
    },
    {
      "cell_type": "markdown",
      "metadata": {
        "id": "A57_204nYAT3"
      },
      "source": [
        "### Хитрая сортировка\n",
        "\n",
        "Пусть у нас есть следующий список, в котором элементы -- tuple из строк:\n",
        "\n",
        "``items = [('one', 'two'), ('three', 'four'), ('five', 'six'), ('string', 'a')]``\n",
        "\n",
        "Мы хотим отсортировать этот список по последней букве второго элемента каждого ``tuple``, т.е. получить такой список:\n",
        "\n",
        "``sorted_items = [('string', 'a'), ('one', 'two'), ('three', 'four'), ('five', 'six')]``.\n",
        "Что нужно вставить вместо \"###\" в следующем выражении, чтобы получить сортировку?\n",
        "\n",
        "``sorted_items = sorted(items, key=lambda x: ###)``"
      ]
    },
    {
      "cell_type": "code",
      "execution_count": null,
      "metadata": {
        "id": "SnIk7m_8YAT4"
      },
      "outputs": [],
      "source": [
        "items = [('one', 'two'), ('three', 'four'), ('five', 'six'), ('string', 'a')]\n",
        "\n",
        "\n",
        "sorted_items = sorted(items, key=lambda x: x[1][-1])\n",
        "print(sorted_items)\n",
        "\n",
        "                      \n",
        "assert sorted_items == [('string', 'a'), ('one', 'two'), ('three', 'four'), ('five', 'six')], \\\n",
        "\"Something is wrong! Please try again\""
      ]
    },
    {
      "cell_type": "markdown",
      "metadata": {
        "id": "f_ggknIxYAT7"
      },
      "source": [
        "### Еще строки\n",
        "\n",
        "Вашей программе на вход подаются три строки ``s, a, b``, состоящие из строчных латинских букв.\n",
        "За одну операцию вы можете заменить все вхождения строки ``a`` в строку ``s`` на строку ``b``.\n",
        "\n",
        "Например, ``s = \"abab\", a = \"ab\", b = \"ba\"``, тогда после выполнения одной операции строка ``s`` перейдет в строку ``\"baba\"``, после выполнения двух и операций – в строку ``\"bbaa\"``, и дальнейшие операции не будут изменять строку ``s``.\n",
        "\n",
        "Необходимо узнать, после какого минимального количества операций в строке ``s`` не останется вхождений строки ``a``. Если операций потребуется более 1000, выведите ``Impossible``.\n",
        "\n",
        "Выведите одно число – минимальное число операций, после применения которых в строке ``s`` не останется вхождений строки ``a``, или ``Impossible``, если операций потребуется более 1000.\n",
        "\n",
        "**Sample Input 1:**\n",
        "\n",
        "``\n",
        "ababa\n",
        "a\n",
        "b\n",
        "``\n",
        "\n",
        "**Sample Output 1:**\n",
        "\n",
        "``1``\n",
        "\n",
        "**Sample Input 2:**\n",
        "\n",
        "``ababa\n",
        "b\n",
        "a``\n",
        "\n",
        "**Sample Output 2:**\n",
        "\n",
        "``1``\n",
        "\n",
        "**Sample Input 3:**\n",
        "\n",
        "``ababa\n",
        "c\n",
        "c``\n",
        "\n",
        "**Sample Output 3:**\n",
        "\n",
        "``0``\n",
        "\n",
        "**Sample Input 4:**\n",
        "\n",
        "``ababac\n",
        "c\n",
        "c``\n",
        "\n",
        "**Sample Output 4:**\n",
        "\n",
        "``Impossible``\n"
      ]
    },
    {
      "cell_type": "code",
      "execution_count": 46,
      "metadata": {
        "id": "JcLMmkF6YAT8"
      },
      "outputs": [],
      "source": [
        "def my_func(s: str, a: str, b: str) -> int:\n",
        "    \"\"\"Replace occurrences of one string with another.\"\"\"\n",
        "    count = 0\n",
        "    while count <= 1000:\n",
        "        if a not in s:\n",
        "            break\n",
        "        s = s.replace(a, b)\n",
        "        count += 1\n",
        "    else:\n",
        "        return 'Impossible'\n",
        "\n",
        "    return count\n",
        "\n",
        "\n",
        "assert my_func('ababa', 'a', 'b') == 1\n",
        "assert my_func('ababa', 'b', 'a') == 1\n",
        "assert my_func('ababa', 'c', 'c') == 0\n",
        "assert my_func('ababac', 'c', 'c') == 'Impossible'\n",
        "assert my_func('abab', 'ab', 'ba') == 2"
      ]
    },
    {
      "cell_type": "markdown",
      "metadata": {
        "id": "3QOrzr1_YAT_"
      },
      "source": [
        "### Создание массивов\n",
        "Дан массив $A[0,\\ldots,N-1]$. Напишите функцию, принимающую один обязательный аргумент A и один опциональный аргумент ``erase``, по умолчанию равный 1. Возвратите массив $B[0,\\ldots, N-1]$, где $B_i = A_0 + \\ldots + A_{i}$ --- массив частичных сумм массива $A$, предварительно удалив из массива $B$ все элементы, равные erase. Постарайтесь сделать это за линейное время без использования Numpy."
      ]
    },
    {
      "cell_type": "code",
      "execution_count": 51,
      "metadata": {
        "id": "GSeVXF-xYAUA"
      },
      "outputs": [],
      "source": [
        "def cumsum_and_erase(a, erase=1):\n",
        "    \"\"\"\n",
        "    Create an array of partial sums. \n",
        "\n",
        "    :param: a is an array\n",
        "    :return: B an array of partial sums\n",
        "    \"\"\"\n",
        "    B = []\n",
        "    previous = 0\n",
        "    for num in a:\n",
        "        new = num + previous\n",
        "        if new != erase:\n",
        "            B.append(new)\n",
        "        previous = new\n",
        "    return B\n",
        "\n",
        "A = [5, 1, 4, 5, 14]\n",
        "B = cumsum_and_erase(A, erase=10)\n",
        "\n",
        "assert B == [5, 6, 15, 29], \"Something is wrong! Please try again\""
      ]
    },
    {
      "cell_type": "markdown",
      "metadata": {
        "id": "xvOBFjavYAUD"
      },
      "source": [
        "### Обработка текста\n",
        "Дан список текстов, слова в которых разделены пробелами (можно считать, что знаков препинания нет). Часть слов является \"мусорными\": в них присутствуют цифры и спецсимволы. Отфильтруйте такие слова из каждого текста. Используйте функции ``str.split``, ``str.isalpha``, ``str.join``, а также [генератор filter](http://pythonicway.com/python-functinal-programming)."
      ]
    },
    {
      "cell_type": "code",
      "execution_count": 68,
      "metadata": {
        "id": "GBzS-UHZYAUE"
      },
      "outputs": [],
      "source": [
        "sentences = ['1 thousand devils', 'My name is 9Pasha', 'Room #125 costs $100']\n",
        "\n",
        "\n",
        "def process(sentences: list) -> list:\n",
        "    \"\"\"\n",
        "    Clean an input text.\n",
        "\n",
        "    :param: sentences a number of strings with extra numbers or special symbols\n",
        "    :return: new_sentences list of strings cleared of extra characters\n",
        "    \"\"\"\n",
        "    new_sentences = []\n",
        "    for sentence in sentences:\n",
        "        words = sentence.split()\n",
        "        new_words = list(filter(lambda x: x.isalpha(), words))\n",
        "        new_sentence = ' '.join(new_words)\n",
        "        new_sentences.append(new_sentence)\n",
        "    return new_sentences\n",
        "    \n",
        "\n",
        "assert process(sentences) == ['thousand devils', 'My name is', 'Room costs'], \\\n",
        "\"Something is wrong! Please try again\"\n",
        "assert process(['', '']) == ['', '']\n",
        "assert process([]) == []\n",
        "assert process(['!', 'Hello', '42']) == ['', 'Hello', '']"
      ]
    },
    {
      "cell_type": "markdown",
      "metadata": {
        "id": "lNCcTYSRow1j"
      },
      "source": [
        "#Расстояние Хэмминга"
      ]
    },
    {
      "cell_type": "markdown",
      "metadata": {
        "id": "8jfcOp6ckl30"
      },
      "source": [
        "Вам даны две строки, ``a`` и ``b`` одинаковой длины. Необходимо посчитать расстояние Хэмминга между ними, которое определяется как количество символов, которые не совпадают между двумя строками в одинаковой позиции.\n",
        "\n",
        "**Sample Input 1:**\n",
        "\n",
        "```\n",
        "a = 'AGCT'\n",
        "b = 'ACGT'\n",
        "hamming(a, b)\n",
        "```\n",
        "\n",
        "**Sample Output 1:**\n",
        "\n",
        "``2``"
      ]
    },
    {
      "cell_type": "code",
      "execution_count": 75,
      "metadata": {
        "id": "d_IYhoPcg3Ru"
      },
      "outputs": [],
      "source": [
        "def hamming(a, b):\n",
        "    \"\"\"\n",
        "    Return the number of different characters between two strings.\n",
        "\n",
        "    :param: a, b compared strings\n",
        "    :return: difference the number of different elements\n",
        "    \"\"\"\n",
        "    difference = 0\n",
        "    for i in range(len(a)):\n",
        "        if a[i] != b[i]:\n",
        "            difference += 1\n",
        "    return difference\n",
        "\n",
        "\n",
        "assert hamming(\"AGCT\", \"ACGT\") == 2\n",
        "assert hamming(\"\", \"\") == 0\n",
        "assert hamming(\"ACCC\", \"ACCC\") == 0"
      ]
    },
    {
      "cell_type": "markdown",
      "metadata": {
        "id": "iA7EQgga9OB-"
      },
      "source": [
        "### Numpy"
      ]
    },
    {
      "cell_type": "code",
      "execution_count": 159,
      "metadata": {
        "id": "HEFAaMjP9CRh"
      },
      "outputs": [],
      "source": [
        "import numpy as np\n",
        "import random\n",
        "import scipy.stats as sps"
      ]
    },
    {
      "cell_type": "markdown",
      "metadata": {
        "id": "6Bul4Uue9Ww9"
      },
      "source": [
        "### Задание 1\n",
        "В первой задаче вам предлагается перемножить две квадратные матрицы двумя способами -- без использования пакета ***numpy*** и с ним."
      ]
    },
    {
      "cell_type": "code",
      "execution_count": null,
      "metadata": {
        "id": "ClrydYj59XPc"
      },
      "outputs": [],
      "source": [
        "# Для генерации матриц используем фукнцию random -- она используется для генерации случайных объектов \n",
        "# функция sample создает случайную выборку. В качестве аргумента ей передается кортеж (i,j),  \n",
        "# здесь i -- число строк, j -- число столбцов.\n",
        "a = np.random.sample((100, 100))\n",
        "b = np.random.sample((100, 100))\n",
        "\n",
        "# Выведите размерность (ранг) каждой матрицы с помощью функции ndim.\n",
        "# Используйте функцию shape, что она вывела?\n",
        "\n",
        "# ========\n",
        "print(a.ndim)\n",
        "print(b.ndim)\n",
        "print(a.shape)\n",
        "print(b.shape)\n",
        "# ========\n",
        "print(a)\n",
        "print(b)"
      ]
    },
    {
      "cell_type": "code",
      "execution_count": 161,
      "metadata": {
        "id": "yeejqk_z9aXD"
      },
      "outputs": [],
      "source": [
        "def mult(a, b):\n",
        "    \"\"\"  \n",
        "    a: list of \"size\" lists, each contains \"size\" floats --- первая матрица-аргумент\n",
        "    b: list of \"size\" lists, each contains \"size\" floats --- вторая матрица-аргумент\n",
        "    return c: list of \"size\" lists, each contains \"size\" floats --- матрица, являющаяся результатом умножения матриц a и b\n",
        "    \n",
        "    Функция принимает на вход две матрицы: a и b размерностью size x size\n",
        "    Возвращает матрицу их произведения a * b = c \n",
        "\n",
        "    Реализуйте умножение матриц без использования функций из пакета numpy (может помочь функция zip)\n",
        "    \"\"\"\n",
        "    c = np.zeros(a.shape)\n",
        "    for i in range(len(a)):\n",
        "        for j in range(len(a)):\n",
        "            s = 0\n",
        "            for k in range(len(a)):\n",
        "                s += a[i][k]*b[k][j]\n",
        "            c[i][j] = s\n",
        "\n",
        "    return c"
      ]
    },
    {
      "cell_type": "code",
      "execution_count": 162,
      "metadata": {
        "id": "ul0QaXni9cAq"
      },
      "outputs": [],
      "source": [
        "def np_mult(a, b):\n",
        "    \"\"\"  \n",
        "    a: np.array[size, size] --- первая матрица-аргумент\n",
        "    b: np.array[size, size] --- вторая матрица-аргумент\n",
        "    return c: np.array[size, size]       --- матрица, являющаяся результатом умножения матриц a и b\n",
        "    \n",
        "    Функция принимает на вход две матрицы: a и b размерностью size x size\n",
        "    Возвращает матрицу их произведения a * b = c \n",
        "\n",
        "    Реализуйте умножение матриц, используя функции из пакета numpy\n",
        "    \"\"\"\n",
        "    return a @ b"
      ]
    },
    {
      "cell_type": "code",
      "execution_count": null,
      "metadata": {
        "id": "gFdt-Kbe9gWi"
      },
      "outputs": [],
      "source": [
        "%%time\n",
        "# засечем время работы функции без NumPy\n",
        "M1 = mult(a, b)"
      ]
    },
    {
      "cell_type": "code",
      "execution_count": null,
      "metadata": {
        "id": "F5QOtMj19h4n"
      },
      "outputs": [],
      "source": [
        "%%time\n",
        "# засечем время работы функции с NumPy\n",
        "M2 = np_mult(a, b)"
      ]
    },
    {
      "cell_type": "code",
      "source": [
        "M1[0][0]"
      ],
      "metadata": {
        "id": "smfERKd1nHcT"
      },
      "execution_count": null,
      "outputs": []
    },
    {
      "cell_type": "code",
      "source": [
        "M2[0][0]"
      ],
      "metadata": {
        "id": "4NBeOJ2mnJr-"
      },
      "execution_count": null,
      "outputs": []
    },
    {
      "cell_type": "code",
      "execution_count": 167,
      "metadata": {
        "id": "BTDTjNjk9i3s"
      },
      "outputs": [],
      "source": [
        "# проверим корректность\n",
        "assert np.allclose(np.array(M1), M2)"
      ]
    },
    {
      "cell_type": "code",
      "execution_count": null,
      "metadata": {
        "id": "bLQ-E_mC9j6D"
      },
      "outputs": [],
      "source": []
    }
  ],
  "metadata": {
    "colab": {
      "collapsed_sections": [],
      "provenance": [],
      "include_colab_link": true
    },
    "kernelspec": {
      "display_name": "Python 3",
      "language": "python",
      "name": "python3"
    },
    "language_info": {
      "codemirror_mode": {
        "name": "ipython",
        "version": 3
      },
      "file_extension": ".py",
      "mimetype": "text/x-python",
      "name": "python",
      "nbconvert_exporter": "python",
      "pygments_lexer": "ipython3",
      "version": "3.7.3"
    }
  },
  "nbformat": 4,
  "nbformat_minor": 0
}